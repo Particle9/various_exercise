{
 "cells": [
  {
   "cell_type": "code",
   "execution_count": 20,
   "id": "3e7c27b2-d542-4f4b-8de5-107b32ba4738",
   "metadata": {},
   "outputs": [],
   "source": [
    "def fib(x):\n",
    "    if x == 1:\n",
    "        return 1\n",
    "    elif x == 0:\n",
    "        return 0\n",
    "    return fib(x-2) + fib(x-1)"
   ]
  },
  {
   "cell_type": "code",
   "execution_count": 21,
   "id": "b74c9190-d2f7-43e5-893a-1d88f6ddf3c9",
   "metadata": {},
   "outputs": [
    {
     "data": {
      "text/plain": [
       "[0, 1, 1, 2, 3, 5]"
      ]
     },
     "execution_count": 21,
     "metadata": {},
     "output_type": "execute_result"
    }
   ],
   "source": [
    "[fib(x) for x in range(0,6)]"
   ]
  },
  {
   "cell_type": "code",
   "execution_count": 25,
   "id": "3dc8d908-9050-4b80-ac07-ed46bb023963",
   "metadata": {},
   "outputs": [
    {
     "data": {
      "text/plain": [
       "75025"
      ]
     },
     "execution_count": 25,
     "metadata": {},
     "output_type": "execute_result"
    }
   ],
   "source": [
    "fib(25)"
   ]
  },
  {
   "cell_type": "code",
   "execution_count": 39,
   "id": "404ef1b6-4ae4-487f-86d1-2cd3cf71e648",
   "metadata": {},
   "outputs": [],
   "source": [
    "def fib_memo(n):\n",
    "    f = [0,1]\n",
    "    \n",
    "    for i in range(2,n+1):\n",
    "        f.append(f[i-1] + f[i-2])\n",
    "        print(f)\n",
    "    return f[n]"
   ]
  },
  {
   "cell_type": "code",
   "execution_count": 40,
   "id": "6b61820b-9c8e-4f38-91a7-348ab6574bd8",
   "metadata": {},
   "outputs": [
    {
     "name": "stdout",
     "output_type": "stream",
     "text": [
      "[0, 1, 1]\n",
      "[0, 1, 1, 2]\n",
      "[0, 1, 1, 2, 3]\n",
      "[0, 1, 1, 2, 3, 5]\n",
      "[0, 1, 1, 2, 3, 5, 8]\n"
     ]
    },
    {
     "data": {
      "text/plain": [
       "8"
      ]
     },
     "execution_count": 40,
     "metadata": {},
     "output_type": "execute_result"
    }
   ],
   "source": [
    "fib_memo(6)"
   ]
  },
  {
   "cell_type": "code",
   "execution_count": 29,
   "id": "c00335f5-b845-45ef-af82-1a790d46b47e",
   "metadata": {},
   "outputs": [],
   "source": [
    "import datetime"
   ]
  },
  {
   "cell_type": "code",
   "execution_count": 33,
   "id": "e1ac4ba9-2350-4cf7-9b39-f6d7f6115484",
   "metadata": {},
   "outputs": [
    {
     "data": {
      "text/plain": [
       "0.19954204559326172"
      ]
     },
     "execution_count": 33,
     "metadata": {},
     "output_type": "execute_result"
    }
   ],
   "source": [
    "start = time.time()\n",
    "fib(30)\n",
    "elapsed = time.time() - start\n",
    "elapsed"
   ]
  },
  {
   "cell_type": "code",
   "execution_count": 37,
   "id": "a3e2a6d2-78d1-4548-8463-91e66131cd4d",
   "metadata": {},
   "outputs": [
    {
     "data": {
      "text/plain": [
       "0.009604930877685547"
      ]
     },
     "execution_count": 37,
     "metadata": {},
     "output_type": "execute_result"
    }
   ],
   "source": [
    "start = time.time()\n",
    "fib_memo(10000)\n",
    "elapsed = time.time() - start\n",
    "elapsed"
   ]
  },
  {
   "cell_type": "code",
   "execution_count": null,
   "id": "dc0f8ac6-7fac-4e8f-a3cd-e59fcfae73ff",
   "metadata": {},
   "outputs": [],
   "source": []
  },
  {
   "cell_type": "code",
   "execution_count": null,
   "id": "0169d27c-f673-49cd-a90e-3ec1b6187232",
   "metadata": {},
   "outputs": [],
   "source": []
  }
 ],
 "metadata": {
  "kernelspec": {
   "display_name": "Python 3 (ipykernel)",
   "language": "python",
   "name": "python3"
  },
  "language_info": {
   "codemirror_mode": {
    "name": "ipython",
    "version": 3
   },
   "file_extension": ".py",
   "mimetype": "text/x-python",
   "name": "python",
   "nbconvert_exporter": "python",
   "pygments_lexer": "ipython3",
   "version": "3.9.16"
  }
 },
 "nbformat": 4,
 "nbformat_minor": 5
}
