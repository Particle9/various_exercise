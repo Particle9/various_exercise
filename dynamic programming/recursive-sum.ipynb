{
 "cells": [
  {
   "cell_type": "code",
   "execution_count": 3,
   "id": "dcf10dbb-75cd-4915-aec9-3441b4c28bd6",
   "metadata": {},
   "outputs": [],
   "source": [
    "def canSumRecurse(curr_sum, target_sum, numbers, dct_memo):\n",
    "    if curr_sum == target_sum:\n",
    "        return True\n",
    "    elif curr_sum > target_sum:\n",
    "        return False\n",
    "    elif curr_sum in dct_memo:\n",
    "        return dct_memo[curr_sum]\n",
    "    \n",
    "    can_sum_lst = []\n",
    "    for x in numbers:\n",
    "        can_sum = canSumRecurse(curr_sum+x, target_sum, numbers, dct_memo)\n",
    "        if can_sum:\n",
    "            dct_memo[curr_sum] = True\n",
    "            return True\n",
    "    dct_memo[curr_sum] = False\n",
    "    return False\n",
    "    \n",
    "\n",
    "def canSum(target_sum, numbers):\n",
    "    sorted_num = sorted(numbers, reverse=True)\n",
    "    dct_memo = {}\n",
    "    return canSumRecurse(0,target_sum, numbers,dct_memo)\n",
    "     "
   ]
  },
  {
   "cell_type": "code",
   "execution_count": 4,
   "id": "43522cd6-b19a-490a-af79-21fc7efb6065",
   "metadata": {},
   "outputs": [
    {
     "data": {
      "text/plain": [
       "True"
      ]
     },
     "execution_count": 4,
     "metadata": {},
     "output_type": "execute_result"
    }
   ],
   "source": [
    "canSum(50,[200,3,70,90,61,21,77,4,22])"
   ]
  },
  {
   "cell_type": "code",
   "execution_count": 5,
   "id": "43ac20aa-394d-47d4-b16b-fd0a89b1f430",
   "metadata": {},
   "outputs": [
    {
     "data": {
      "text/plain": [
       "False"
      ]
     },
     "execution_count": 5,
     "metadata": {},
     "output_type": "execute_result"
    }
   ],
   "source": [
    "canSum(1000,[7,14])"
   ]
  },
  {
   "cell_type": "code",
   "execution_count": 6,
   "id": "72f5dbaf-6bc9-4af7-97b2-f0d1adb8c51e",
   "metadata": {},
   "outputs": [],
   "source": [
    "def howSumRecurse(curr_sum, int_lst, target_sum, numbers, dct_memo):\n",
    "    if curr_sum == target_sum:\n",
    "        return int_lst\n",
    "    elif curr_sum > target_sum:\n",
    "        return []\n",
    "    elif curr_sum in dct_memo:\n",
    "        return dct_memo[curr_sum]\n",
    "    \n",
    "    for x in numbers:\n",
    "        how_sum = howSumRecurse(curr_sum+x, int_lst+[x], target_sum, numbers, dct_memo)\n",
    "        if how_sum:\n",
    "            dct_memo[curr_sum] = how_sum\n",
    "            return how_sum\n",
    "        \n",
    "    dct_memo[curr_sum] = []\n",
    "    return []\n",
    "    \n",
    "\n",
    "def howSum(target_sum, numbers):\n",
    "    sorted_num = sorted(numbers, reverse=True)\n",
    "    dct_memo = {}\n",
    "    return howSumRecurse(0, [],target_sum, sorted_num,dct_memo)\n",
    "     "
   ]
  },
  {
   "cell_type": "code",
   "execution_count": 7,
   "id": "fc106377-f341-4fd9-a87d-0c4b99d000ca",
   "metadata": {},
   "outputs": [
    {
     "data": {
      "text/plain": [
       "[]"
      ]
     },
     "execution_count": 7,
     "metadata": {},
     "output_type": "execute_result"
    }
   ],
   "source": [
    "howSum(500,[7,14])"
   ]
  },
  {
   "cell_type": "code",
   "execution_count": 8,
   "id": "f533c945-3184-420b-9aca-6ce6bdff1aaa",
   "metadata": {},
   "outputs": [
    {
     "data": {
      "text/plain": [
       "[7]"
      ]
     },
     "execution_count": 8,
     "metadata": {},
     "output_type": "execute_result"
    }
   ],
   "source": [
    "howSum(7, [5,3,4,7])"
   ]
  },
  {
   "cell_type": "code",
   "execution_count": 9,
   "id": "53c1540e-0b11-466c-9692-5268101ab752",
   "metadata": {},
   "outputs": [
    {
     "data": {
      "text/plain": [
       "[5, 3]"
      ]
     },
     "execution_count": 9,
     "metadata": {},
     "output_type": "execute_result"
    }
   ],
   "source": [
    "howSum(8, [2,3,5])"
   ]
  },
  {
   "cell_type": "code",
   "execution_count": 12,
   "id": "f9a9a197-1b3f-4846-9a3c-8ed3f777f192",
   "metadata": {},
   "outputs": [],
   "source": [
    "def bestSumRecurse(curr_sum, int_lst, target_sum, numbers, dct_memo):\n",
    "    if curr_sum == target_sum:\n",
    "        return int_lst\n",
    "    elif curr_sum > target_sum:\n",
    "        return []\n",
    "    elif curr_sum in dct_memo:\n",
    "        return dct_memo[curr_sum]\n",
    "    \n",
    "    lst_poss = []\n",
    "    \n",
    "    for x in numbers:\n",
    "        how_sum = bestSumRecurse(curr_sum+x, int_lst+[x], target_sum, numbers, dct_memo)\n",
    "        if how_sum:\n",
    "            lst_poss += [how_sum]\n",
    "    if lst_poss:\n",
    "        min_poss = min(lst_poss, key=len)\n",
    "        dct_memo[curr_sum] = min_poss\n",
    "        return min_poss\n",
    "    else:\n",
    "        dct_memo[curr_sum] = []\n",
    "        return []\n",
    "    \n",
    "\n",
    "def bestSum(target_sum, numbers):\n",
    "    sorted_num = sorted(numbers, reverse=True)\n",
    "    dct_memo = {}\n",
    "    return bestSumRecurse(0, [],target_sum, sorted_num,dct_memo)\n",
    "     "
   ]
  },
  {
   "cell_type": "code",
   "execution_count": 15,
   "id": "359cfb35-6613-47b4-adbf-eaf31a7db1bb",
   "metadata": {},
   "outputs": [
    {
     "data": {
      "text/plain": [
       "[6, 4]"
      ]
     },
     "execution_count": 15,
     "metadata": {},
     "output_type": "execute_result"
    }
   ],
   "source": [
    "bestSum(10, [1,2,4,6,7])"
   ]
  },
  {
   "cell_type": "code",
   "execution_count": 20,
   "id": "6e94099e-9e9c-4eb3-88c3-004f319247b8",
   "metadata": {},
   "outputs": [
    {
     "data": {
      "text/plain": [
       "[7, 1, 1, 1, 1]"
      ]
     },
     "execution_count": 20,
     "metadata": {},
     "output_type": "execute_result"
    }
   ],
   "source": [
    "howSum(11, [1,5,7])"
   ]
  },
  {
   "cell_type": "code",
   "execution_count": 21,
   "id": "b0d9b144-3633-49fb-837b-3330d7085769",
   "metadata": {},
   "outputs": [
    {
     "data": {
      "text/plain": [
       "[5, 1, 5]"
      ]
     },
     "execution_count": 21,
     "metadata": {},
     "output_type": "execute_result"
    }
   ],
   "source": [
    "bestSum(11, [1,5,7])"
   ]
  },
  {
   "cell_type": "code",
   "execution_count": null,
   "id": "bd26f9a9-72a9-4edc-9a12-0f29a28de6cd",
   "metadata": {},
   "outputs": [],
   "source": []
  }
 ],
 "metadata": {
  "kernelspec": {
   "display_name": "Python 3 (ipykernel)",
   "language": "python",
   "name": "python3"
  },
  "language_info": {
   "codemirror_mode": {
    "name": "ipython",
    "version": 3
   },
   "file_extension": ".py",
   "mimetype": "text/x-python",
   "name": "python",
   "nbconvert_exporter": "python",
   "pygments_lexer": "ipython3",
   "version": "3.9.16"
  }
 },
 "nbformat": 4,
 "nbformat_minor": 5
}
