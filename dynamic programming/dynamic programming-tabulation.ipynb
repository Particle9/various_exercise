{
 "cells": [
  {
   "cell_type": "code",
   "execution_count": 2,
   "id": "0de0d674-5a35-4372-a24c-65538a496785",
   "metadata": {},
   "outputs": [],
   "source": [
    "# Fibonacci Sequence\n",
    "\n",
    "def fib(n):\n",
    "    tab = [0 for i in range(0,n+1)]\n",
    "    \n",
    "    tab[0] = 0\n",
    "    tab[1] = 1\n",
    "    for i in range(2,n+1):\n",
    "        tab[i] = tab[i-1] + tab[i-2]\n",
    "    return tab[n]"
   ]
  },
  {
   "cell_type": "code",
   "execution_count": 3,
   "id": "c2b1e552-f514-455c-be4c-5c7d5f83b098",
   "metadata": {},
   "outputs": [
    {
     "data": {
      "text/plain": [
       "8"
      ]
     },
     "execution_count": 3,
     "metadata": {},
     "output_type": "execute_result"
    }
   ],
   "source": [
    "fib(6)"
   ]
  },
  {
   "cell_type": "code",
   "execution_count": 4,
   "id": "08a9454c-5157-4360-ada9-d1d2c21b26b4",
   "metadata": {},
   "outputs": [
    {
     "data": {
      "text/plain": [
       "354224848179261915075"
      ]
     },
     "execution_count": 4,
     "metadata": {},
     "output_type": "execute_result"
    }
   ],
   "source": [
    "fib(100)"
   ]
  },
  {
   "cell_type": "code",
   "execution_count": 5,
   "id": "79fb2315-9121-480d-be0d-9d2e718c7f59",
   "metadata": {},
   "outputs": [],
   "source": [
    "# Grid Traveller\n",
    "\n",
    "def gridTraveller(m,n):\n",
    "    tab = [[0] * (n+2) for i in range(0,m+2)]\n",
    "    if m != 0 and n != 0:\n",
    "        tab[1][1] = 1\n",
    "    for i in range(0,m+1):\n",
    "        for j in range(0,n+1):\n",
    "            tab[i+1][j] +=  tab[i][j]\n",
    "            tab[i][j+1] += tab[i][j]\n",
    "    \n",
    "    return tab[m][n]"
   ]
  },
  {
   "cell_type": "code",
   "execution_count": 6,
   "id": "0fb3f885-5823-4b1b-96bc-574b2bffaaa3",
   "metadata": {},
   "outputs": [
    {
     "data": {
      "text/plain": [
       "0"
      ]
     },
     "execution_count": 6,
     "metadata": {},
     "output_type": "execute_result"
    }
   ],
   "source": [
    "gridTraveller(0,0)"
   ]
  },
  {
   "cell_type": "code",
   "execution_count": 7,
   "id": "25be77af-e0dd-451c-bfb5-7cb1d8d29d11",
   "metadata": {},
   "outputs": [
    {
     "data": {
      "text/plain": [
       "6"
      ]
     },
     "execution_count": 7,
     "metadata": {},
     "output_type": "execute_result"
    }
   ],
   "source": [
    "gridTraveller(3,3)"
   ]
  },
  {
   "cell_type": "code",
   "execution_count": 8,
   "id": "82d81ccd-9982-456b-a929-26720d2d7862",
   "metadata": {},
   "outputs": [
    {
     "data": {
      "text/plain": [
       "35"
      ]
     },
     "execution_count": 8,
     "metadata": {},
     "output_type": "execute_result"
    }
   ],
   "source": [
    "gridTraveller(4,5)"
   ]
  },
  {
   "cell_type": "code",
   "execution_count": 9,
   "id": "6e09257d-2141-4c81-a847-77f59c9cc178",
   "metadata": {},
   "outputs": [],
   "source": [
    "# Check if list numbers can be added target_sum\n",
    "\n",
    "def canSum(target_sum, numbers):\n",
    "    tab = [False] * (target_sum + 2)\n",
    "    tab[0] = True\n",
    "            \n",
    "    for i in range(0,target_sum+1):\n",
    "        if tab[i]:\n",
    "            for n in numbers:\n",
    "                if i+n <= target_sum:\n",
    "                    tab[i+n] = True\n",
    "    return tab[target_sum]"
   ]
  },
  {
   "cell_type": "code",
   "execution_count": 10,
   "id": "3de85110-51d3-488f-87dd-a69aa091dc1d",
   "metadata": {},
   "outputs": [
    {
     "data": {
      "text/plain": [
       "True"
      ]
     },
     "execution_count": 10,
     "metadata": {},
     "output_type": "execute_result"
    }
   ],
   "source": [
    "canSum(7,[5,3,4])"
   ]
  },
  {
   "cell_type": "code",
   "execution_count": 11,
   "id": "21429129-1377-4f75-b791-f7dc69b9dac5",
   "metadata": {},
   "outputs": [
    {
     "data": {
      "text/plain": [
       "False"
      ]
     },
     "execution_count": 11,
     "metadata": {},
     "output_type": "execute_result"
    }
   ],
   "source": [
    "canSum(1000,[7,14])"
   ]
  },
  {
   "cell_type": "code",
   "execution_count": null,
   "id": "5e183231-a53b-4d63-ab6e-fc1d1ba1860c",
   "metadata": {},
   "outputs": [],
   "source": []
  },
  {
   "cell_type": "code",
   "execution_count": 12,
   "id": "f6ae66b5-768e-46b8-bb4a-08d1a5db532e",
   "metadata": {},
   "outputs": [],
   "source": [
    "# List of numbers from numbers that added become target_sum\n",
    "\n",
    "def howSum(target_sum,numbers):\n",
    "    tab = [[] for x in range(target_sum + 2)]\n",
    "    tab[0] = []\n",
    "    for i in range(0, target_sum+1):\n",
    "        if not(i) or tab[i]:\n",
    "            for n in numbers:\n",
    "                if i + n <= target_sum:\n",
    "                    tab[i+n] = tab[i] + [n]\n",
    "    return tab[target_sum]"
   ]
  },
  {
   "cell_type": "code",
   "execution_count": 13,
   "id": "18a9fb6f-a20e-484d-8df5-72fa6bd36585",
   "metadata": {},
   "outputs": [
    {
     "data": {
      "text/plain": [
       "[4, 3]"
      ]
     },
     "execution_count": 13,
     "metadata": {},
     "output_type": "execute_result"
    }
   ],
   "source": [
    "howSum(7,[5,4,3])"
   ]
  },
  {
   "cell_type": "code",
   "execution_count": 14,
   "id": "79cbcf3e-4d3f-461b-87b1-5a4818198455",
   "metadata": {},
   "outputs": [],
   "source": [
    "# Shortest list of numbers from numbers that added become target_sum\n",
    "\n",
    "def bestSum(target_sum,numbers):\n",
    "    tab = [[] for x in range(target_sum + 2)]\n",
    "    tab[0] = []\n",
    "    for n in numbers:\n",
    "        tab[n] = [n]\n",
    "    \n",
    "    for i in range(0, target_sum+1):\n",
    "        if tab[i]:\n",
    "            for n in numbers:\n",
    "                if i+n <= target_sum:\n",
    "                    if tab[i+n]:\n",
    "                        tab[i+n] = min(tab[i]+[n], tab[i+n], key=len)\n",
    "                    else:\n",
    "                        tab[i+n] = tab[i]+[n]\n",
    "                \n",
    "    return tab[target_sum]"
   ]
  },
  {
   "cell_type": "code",
   "execution_count": 15,
   "id": "697d4815-4ee2-470e-9023-9ac85daf467f",
   "metadata": {},
   "outputs": [
    {
     "data": {
      "text/plain": [
       "[7]"
      ]
     },
     "execution_count": 15,
     "metadata": {},
     "output_type": "execute_result"
    }
   ],
   "source": [
    "bestSum(7,[5,4,3,1,7])"
   ]
  },
  {
   "cell_type": "code",
   "execution_count": 16,
   "id": "d8935033-9b79-46e2-b9ce-8549233340dd",
   "metadata": {},
   "outputs": [
    {
     "data": {
      "text/plain": [
       "'a'"
      ]
     },
     "execution_count": 16,
     "metadata": {},
     "output_type": "execute_result"
    }
   ],
   "source": [
    "\"asdasd\"[:1]"
   ]
  },
  {
   "cell_type": "code",
   "execution_count": 17,
   "id": "5adb129d-980f-446d-808d-09bd26752a5b",
   "metadata": {},
   "outputs": [],
   "source": [
    "# Check if target string can be formed from wordbank\n",
    "\n",
    "def canConstruct(target,wordbank):\n",
    "    ln = len(target)\n",
    "    tab = [False for x in range(ln+ 2)]\n",
    "    tab[0] = True\n",
    "    for i in range(0,ln+1):\n",
    "        if tab[i]:\n",
    "            for word in wordbank:\n",
    "                n = len(word)\n",
    "                if target[:i] + word == target[:i+n]:\n",
    "                    tab[i+n] = True\n",
    "                    \n",
    "    return tab[ln]"
   ]
  },
  {
   "cell_type": "code",
   "execution_count": 18,
   "id": "9a39aeb7-cec1-4270-add3-2b62cade2fd0",
   "metadata": {},
   "outputs": [
    {
     "data": {
      "text/plain": [
       "True"
      ]
     },
     "execution_count": 18,
     "metadata": {},
     "output_type": "execute_result"
    }
   ],
   "source": [
    "canConstruct(\"applepenapple\", [\"apple\",\"pen\"])"
   ]
  },
  {
   "cell_type": "code",
   "execution_count": 19,
   "id": "a0ace968-3e81-471a-a6c4-0a18a645143f",
   "metadata": {},
   "outputs": [
    {
     "data": {
      "text/plain": [
       "True"
      ]
     },
     "execution_count": 19,
     "metadata": {},
     "output_type": "execute_result"
    }
   ],
   "source": [
    "canConstruct('abcdef',['ab', 'abc', 'cd', 'def', 'abcd'])"
   ]
  },
  {
   "cell_type": "code",
   "execution_count": 122,
   "id": "1428b0ee-81cd-4293-8f1d-a8a9b68d004f",
   "metadata": {},
   "outputs": [
    {
     "data": {
      "text/plain": [
       "False"
      ]
     },
     "execution_count": 122,
     "metadata": {},
     "output_type": "execute_result"
    }
   ],
   "source": [
    "canConstruct('skateboard',['bo', 'rd', 'ate', 't', 'ska', 'sk', 'boar'])"
   ]
  },
  {
   "cell_type": "code",
   "execution_count": 123,
   "id": "34a3e3a4-7560-442b-949b-54847752bcc9",
   "metadata": {},
   "outputs": [
    {
     "data": {
      "text/plain": [
       "False"
      ]
     },
     "execution_count": 123,
     "metadata": {},
     "output_type": "execute_result"
    }
   ],
   "source": [
    "canConstruct('eeeeeeeeeeeeeeeeeeeeeeeef',\n",
    "                   ['e', 'ee', 'eee', 'eeee', 'eeeee', 'eeeeee', 'eeeeeee', 'eeeeeeee', 'eeeeeeee'])\n"
   ]
  },
  {
   "cell_type": "code",
   "execution_count": 117,
   "id": "9098c99c-54d6-47d1-97a4-bd5a471b9dde",
   "metadata": {},
   "outputs": [],
   "source": [
    "# Check how much possible ways target string can be formed from wordbank\n",
    "\n",
    "def countConstruct(target,wordbank):\n",
    "    ln = len(target)\n",
    "    tab = [0 for x in range(ln+ 2)]\n",
    "    tab[0] = 1\n",
    "    for i in range(0,ln+1):\n",
    "        if tab[i]:\n",
    "            for word in wordbank:\n",
    "                n = len(word)\n",
    "                if target[:i] + word == target[:i+n]:\n",
    "                    tab[i+n] += tab[i]\n",
    "                    \n",
    "    return tab[ln]\n",
    "    "
   ]
  },
  {
   "cell_type": "code",
   "execution_count": 118,
   "id": "ba5697d1-0ad6-4029-95ad-28861232fa16",
   "metadata": {},
   "outputs": [
    {
     "data": {
      "text/plain": [
       "1"
      ]
     },
     "execution_count": 118,
     "metadata": {},
     "output_type": "execute_result"
    }
   ],
   "source": [
    "countConstruct('abcdef',['ab', 'abc', 'cd', 'def', 'abcd'])"
   ]
  },
  {
   "cell_type": "code",
   "execution_count": 119,
   "id": "418c811e-7592-4cc1-8172-2dc33b9928e2",
   "metadata": {},
   "outputs": [
    {
     "data": {
      "text/plain": [
       "8421505"
      ]
     },
     "execution_count": 119,
     "metadata": {},
     "output_type": "execute_result"
    }
   ],
   "source": [
    "countConstruct('eeeeeeeeeeeeeeeeeeeeeeee',\n",
    "                   ['e', 'ee', 'eee', 'eeee', 'eeeee', 'eeeeee', 'eeeeeee', 'eeeeeeee', 'eeeeeeee'])\n"
   ]
  },
  {
   "cell_type": "code",
   "execution_count": 135,
   "id": "2448e989-af2e-41a0-a64f-5a954ea3fa9c",
   "metadata": {},
   "outputs": [],
   "source": [
    "# Return All Possible ways target string can be formed from wordbank\n",
    "\n",
    "def allConstruct(target,wordbank):\n",
    "    ln = len(target)\n",
    "    tab = [[] for x in range(ln+ 2)]\n",
    "    tab[0] = [[]]\n",
    "    for i in range(0,ln+1):\n",
    "        if tab[i]:\n",
    "            for word in wordbank:\n",
    "                n = len(word)\n",
    "                if target[:i] + word == target[:i+n]:\n",
    "                    all_poss = [lx + [word] for lx in tab[i]]\n",
    "                    tab[i+n] += all_poss\n",
    "                    \n",
    "    return tab[ln]\n",
    "    "
   ]
  },
  {
   "cell_type": "code",
   "execution_count": 136,
   "id": "a68d4672-8059-4048-bdf5-883fb0fcb29b",
   "metadata": {},
   "outputs": [
    {
     "data": {
      "text/plain": [
       "[['abc', 'def'], ['abcd', 'ef'], ['ab', 'cd', 'ef']]"
      ]
     },
     "execution_count": 136,
     "metadata": {},
     "output_type": "execute_result"
    }
   ],
   "source": [
    "allConstruct('abcdef',['ab', 'abc', 'cd', 'def', 'abcd', 'ef'])"
   ]
  },
  {
   "cell_type": "code",
   "execution_count": 134,
   "id": "1deb1cf9-1c16-4e77-8c65-2c1ce7f4285f",
   "metadata": {},
   "outputs": [
    {
     "name": "stderr",
     "output_type": "stream",
     "text": [
      "IOPub data rate exceeded.\n",
      "The Jupyter server will temporarily stop sending output\n",
      "to the client in order to avoid crashing it.\n",
      "To change this limit, set the config variable\n",
      "`--ServerApp.iopub_data_rate_limit`.\n",
      "\n",
      "Current values:\n",
      "ServerApp.iopub_data_rate_limit=1000000.0 (bytes/sec)\n",
      "ServerApp.rate_limit_window=3.0 (secs)\n",
      "\n"
     ]
    },
    {
     "data": {
      "text/plain": [
       "[]"
      ]
     },
     "execution_count": 134,
     "metadata": {},
     "output_type": "execute_result"
    }
   ],
   "source": [
    "allConstruct('eeeeeeeeeeeeeeeeeeeeeeeef',\n",
    "                   ['ee', 'eee', 'eeee', 'eeeee', 'eeeeee', 'eeeeeee', 'eeeeeeee', 'eeeeeeee'])\n"
   ]
  },
  {
   "cell_type": "code",
   "execution_count": 223,
   "id": "0b67746a-6ffb-4f85-afed-a7fdce58e983",
   "metadata": {},
   "outputs": [],
   "source": [
    "# With prices as stock prices per-day, return max profit if you can only buy and sell 2 times.\n",
    "\n",
    "def maxProfitDP(prices):\n",
    "        days = len(prices)\n",
    "        steps = 4\n",
    "        dp = [[0] * (days+2) for x in range(0,steps+2)]\n",
    "        for i in range(0,steps+1):\n",
    "            for j in range(1,days+1):\n",
    "                if i % 2 == 1:\n",
    "                    change = prices[j-1]\n",
    "                else:\n",
    "                    change = -prices[j-1]\n",
    "                    \n",
    "                dp[i+1][j] = dp[i][j] + change\n",
    "                dp[i][j+1] = max(dp[i][j+1], dp[i][j])\n",
    "                \n",
    "        return dp[steps][days]"
   ]
  },
  {
   "cell_type": "code",
   "execution_count": 224,
   "id": "840d900a-7983-4c89-9a0c-4d0368a15734",
   "metadata": {},
   "outputs": [
    {
     "data": {
      "text/plain": [
       "6"
      ]
     },
     "execution_count": 224,
     "metadata": {},
     "output_type": "execute_result"
    }
   ],
   "source": [
    "maxProfitDP([3,3,5,0,0,3,1,4])"
   ]
  },
  {
   "cell_type": "code",
   "execution_count": 225,
   "id": "004d3eb9-98f8-4b91-b3ab-26f30f2647df",
   "metadata": {},
   "outputs": [
    {
     "data": {
      "text/plain": [
       "4"
      ]
     },
     "execution_count": 225,
     "metadata": {},
     "output_type": "execute_result"
    }
   ],
   "source": [
    "maxProfitDP([1,2,3,4,5])"
   ]
  },
  {
   "cell_type": "code",
   "execution_count": 226,
   "id": "7ac233e7-3515-4d51-877b-6eec86de51ed",
   "metadata": {},
   "outputs": [
    {
     "data": {
      "text/plain": [
       "0"
      ]
     },
     "execution_count": 226,
     "metadata": {},
     "output_type": "execute_result"
    }
   ],
   "source": [
    "maxProfitDP([])"
   ]
  },
  {
   "cell_type": "code",
   "execution_count": 227,
   "id": "34b15ea3-a47b-488c-9c2c-6efa31bbab9b",
   "metadata": {},
   "outputs": [
    {
     "data": {
      "text/plain": [
       "0"
      ]
     },
     "execution_count": 227,
     "metadata": {},
     "output_type": "execute_result"
    }
   ],
   "source": [
    "maxProfitDP([7,6,4,3,1])"
   ]
  },
  {
   "cell_type": "code",
   "execution_count": null,
   "id": "5a95c439-d48f-4ef0-a3f0-c58688e33de6",
   "metadata": {},
   "outputs": [],
   "source": []
  }
 ],
 "metadata": {
  "kernelspec": {
   "display_name": "Python 3 (ipykernel)",
   "language": "python",
   "name": "python3"
  },
  "language_info": {
   "codemirror_mode": {
    "name": "ipython",
    "version": 3
   },
   "file_extension": ".py",
   "mimetype": "text/x-python",
   "name": "python",
   "nbconvert_exporter": "python",
   "pygments_lexer": "ipython3",
   "version": "3.9.16"
  }
 },
 "nbformat": 4,
 "nbformat_minor": 5
}
