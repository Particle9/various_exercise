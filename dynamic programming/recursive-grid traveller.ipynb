{
 "cells": [
  {
   "cell_type": "code",
   "execution_count": 13,
   "id": "3b84a8cd-05f6-49f4-8df6-8bd24558d814",
   "metadata": {},
   "outputs": [],
   "source": [
    "steps = 0"
   ]
  },
  {
   "cell_type": "code",
   "execution_count": 30,
   "id": "5b4f0b39-03ca-4718-9876-ca44b835f1da",
   "metadata": {},
   "outputs": [],
   "source": [
    "def grid_traveller_recursive(i,j,m,n):\n",
    "    global steps\n",
    "    steps += 1\n",
    "    if i >= m and j >= n:\n",
    "        return 1\n",
    "    elif i >= m:\n",
    "        return grid_traveller_recursive(i, j+1,m,n)\n",
    "    elif j >= n:\n",
    "        return grid_traveller_recursive(i+1, j,m,n)\n",
    "    else:\n",
    "        return grid_traveller_recursive(i, j+1,m,n) + grid_traveller_recursive(i+1, j,m,n)\n",
    "\n",
    "def grid_traveller(m,n):\n",
    "    return grid_traveller_recursive(0,0,m-1,n-1)"
   ]
  },
  {
   "cell_type": "code",
   "execution_count": 31,
   "id": "5a1a176e-5879-4b47-9a52-b54b0c74ab12",
   "metadata": {},
   "outputs": [
    {
     "data": {
      "text/plain": [
       "35"
      ]
     },
     "execution_count": 31,
     "metadata": {},
     "output_type": "execute_result"
    }
   ],
   "source": [
    "grid_traveller(4,5)"
   ]
  },
  {
   "cell_type": "code",
   "execution_count": 32,
   "id": "c19b90d7-2d2e-47a1-b4bb-80fb912077e9",
   "metadata": {},
   "outputs": [
    {
     "data": {
      "text/plain": [
       "3"
      ]
     },
     "execution_count": 32,
     "metadata": {},
     "output_type": "execute_result"
    }
   ],
   "source": [
    "grid_traveller(2,3)"
   ]
  },
  {
   "cell_type": "code",
   "execution_count": 216,
   "id": "cfee81b8-9452-4d9e-9f61-a3ed11833720",
   "metadata": {},
   "outputs": [],
   "source": [
    "def grid_traveller_recursive_memo(i,j,m,n,memo_lst):\n",
    "    global steps\n",
    "    steps += 1\n",
    "    if memo_lst[i][j] != -1:\n",
    "        return memo_lst[i][j]\n",
    "    elif i >= m and j >= n:\n",
    "        return 1\n",
    "    elif i >= m:\n",
    "        res = grid_traveller_recursive_memo(i, j+1,m,n, memo_lst)\n",
    "    elif j >= n:\n",
    "        res = grid_traveller_recursive_memo(i+1, j,m,n, memo_lst)\n",
    "    else:\n",
    "        res = grid_traveller_recursive_memo(i, j+1,m,n, memo_lst) + grid_traveller_recursive_memo(i+1, j,m,n, memo_lst)\n",
    "\n",
    "    if memo_lst[i][j] == -1:\n",
    "        memo_lst[i][j] = res\n",
    "    return res\n",
    "    \n",
    "    \n",
    "\n",
    "def grid_traveller_memo(m,n):\n",
    "    memo_lst = [[-1 for x in range(n)] for y in range(m)]\n",
    "    \n",
    "    return grid_traveller_recursive_memo(0,0,m-1,n-1, memo_lst)"
   ]
  },
  {
   "cell_type": "code",
   "execution_count": null,
   "id": "9ae711c9-1d42-40e7-ba77-f9bda818e7c1",
   "metadata": {},
   "outputs": [],
   "source": []
  },
  {
   "cell_type": "code",
   "execution_count": 217,
   "id": "421d2c12-634f-4cdf-ba95-12157d951f1b",
   "metadata": {},
   "outputs": [
    {
     "data": {
      "text/plain": [
       "715"
      ]
     },
     "execution_count": 217,
     "metadata": {},
     "output_type": "execute_result"
    }
   ],
   "source": [
    "steps = 0\n",
    "grid_traveller(5,10)"
   ]
  },
  {
   "cell_type": "code",
   "execution_count": 218,
   "id": "5974f3ce-f3cf-4647-a2f1-9f016baa5e50",
   "metadata": {},
   "outputs": [
    {
     "name": "stdout",
     "output_type": "stream",
     "text": [
      "3002\n"
     ]
    }
   ],
   "source": [
    "print(steps)"
   ]
  },
  {
   "cell_type": "code",
   "execution_count": 219,
   "id": "9256a08f-1600-4e92-b7da-f27340f5a91c",
   "metadata": {},
   "outputs": [
    {
     "data": {
      "text/plain": [
       "715"
      ]
     },
     "execution_count": 219,
     "metadata": {},
     "output_type": "execute_result"
    }
   ],
   "source": [
    "steps = 0\n",
    "grid_traveller_memo(5,10)"
   ]
  },
  {
   "cell_type": "code",
   "execution_count": 220,
   "id": "be83b081-97fd-4c6d-a624-e91913a9d167",
   "metadata": {},
   "outputs": [
    {
     "name": "stdout",
     "output_type": "stream",
     "text": [
      "86\n"
     ]
    }
   ],
   "source": [
    "print(steps)"
   ]
  },
  {
   "cell_type": "code",
   "execution_count": null,
   "id": "d405c140-1515-43f6-bfd6-84474b5b2e55",
   "metadata": {},
   "outputs": [],
   "source": []
  },
  {
   "cell_type": "code",
   "execution_count": null,
   "id": "a4d7c91e-0606-4830-a87f-c7df265659ed",
   "metadata": {},
   "outputs": [],
   "source": []
  }
 ],
 "metadata": {
  "kernelspec": {
   "display_name": "Python 3 (ipykernel)",
   "language": "python",
   "name": "python3"
  },
  "language_info": {
   "codemirror_mode": {
    "name": "ipython",
    "version": 3
   },
   "file_extension": ".py",
   "mimetype": "text/x-python",
   "name": "python",
   "nbconvert_exporter": "python",
   "pygments_lexer": "ipython3",
   "version": "3.9.16"
  }
 },
 "nbformat": 4,
 "nbformat_minor": 5
}
