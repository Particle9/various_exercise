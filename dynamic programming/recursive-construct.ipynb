{
 "cells": [
  {
   "cell_type": "code",
   "execution_count": 1,
   "id": "9bd38471-04da-473d-a020-4105fb59d67e",
   "metadata": {},
   "outputs": [],
   "source": [
    "# Naive Recursive Version\n",
    "\n",
    "def canConstructRecurse(constructed_word, target,wordbank):\n",
    "    if constructed_word == target:\n",
    "        return True\n",
    "    elif len(constructed_word) >= len(target):\n",
    "        return False\n",
    "    elif constructed_word not in target:\n",
    "        return False\n",
    "    \n",
    "    for word in wordbank:\n",
    "        if canConstructRecurse(constructed_word + word, target, wordbank):\n",
    "            return True\n",
    "    return False\n",
    "       \n",
    "def canConstruct(target, wordbank):\n",
    "    return canConstructRecurse(\"\", target, wordbank)\n"
   ]
  },
  {
   "cell_type": "code",
   "execution_count": 3,
   "id": "6d3305fe-8b3a-46b8-9479-bbf1cd13cd60",
   "metadata": {},
   "outputs": [],
   "source": [
    "# Memoization Recursive\n",
    "\n",
    "def canConstructRecurseMemo(constructed_word, target,wordbank, dct_memo):\n",
    "    if constructed_word in dct_memo:\n",
    "        return dct_memo[constructed_word]\n",
    "    elif constructed_word == target:\n",
    "        return True\n",
    "    elif len(constructed_word) >= len(target):\n",
    "        return False\n",
    "    elif constructed_word not in target:\n",
    "        return False\n",
    "    \n",
    "    for word in wordbank:\n",
    "        if canConstructRecurseMemo(constructed_word + word, target, wordbank, dct_memo):\n",
    "            dct_memo[constructed_word] = True\n",
    "            return True\n",
    "    dct_memo[constructed_word] = False\n",
    "    return False\n",
    "       \n",
    "def canConstructMemo(target, wordbank):\n",
    "    dct_memo = {}\n",
    "    return canConstructRecurseMemo(\"\", target, wordbank, dct_memo)"
   ]
  },
  {
   "cell_type": "code",
   "execution_count": 4,
   "id": "3ace746e-3a0d-4e94-af03-23e70a0d936c",
   "metadata": {},
   "outputs": [],
   "source": [
    "from time import time"
   ]
  },
  {
   "cell_type": "code",
   "execution_count": 5,
   "id": "0943855c-1ca5-4004-9045-0ce21c786499",
   "metadata": {},
   "outputs": [
    {
     "data": {
      "text/plain": [
       "(True, 0.00010895729064941406)"
      ]
     },
     "execution_count": 5,
     "metadata": {},
     "output_type": "execute_result"
    }
   ],
   "source": [
    "start = time()\n",
    "res = canConstruct('abcdef',['ab', 'abc', 'cd', 'def', 'abcd'])\n",
    "res, time()-start"
   ]
  },
  {
   "cell_type": "code",
   "execution_count": 6,
   "id": "0a779df5-bc92-47ac-8387-56deee962dad",
   "metadata": {},
   "outputs": [
    {
     "data": {
      "text/plain": [
       "(True, 0.00010013580322265625)"
      ]
     },
     "execution_count": 6,
     "metadata": {},
     "output_type": "execute_result"
    }
   ],
   "source": [
    "start = time()\n",
    "res = canConstructMemo('abcdef',['ab', 'abc', 'cd', 'def', 'abcd'])\n",
    "res, time()-start"
   ]
  },
  {
   "cell_type": "code",
   "execution_count": 7,
   "id": "80da3188-66f4-472d-85fa-85847fb21cfa",
   "metadata": {},
   "outputs": [
    {
     "data": {
      "text/plain": [
       "(False, 0.00013899803161621094)"
      ]
     },
     "execution_count": 7,
     "metadata": {},
     "output_type": "execute_result"
    }
   ],
   "source": [
    "start = time()\n",
    "res = canConstruct('skateboard',['bo', 'rd', 'ate', 't', 'ska', 'sk', 'boar'])\n",
    "res, time()-start"
   ]
  },
  {
   "cell_type": "code",
   "execution_count": 8,
   "id": "2a9e76a5-8d02-4d2f-a363-cda3488947b3",
   "metadata": {},
   "outputs": [
    {
     "data": {
      "text/plain": [
       "(False, 0.0001590251922607422)"
      ]
     },
     "execution_count": 8,
     "metadata": {},
     "output_type": "execute_result"
    }
   ],
   "source": [
    "start = time()\n",
    "res = canConstructMemo('skateboard',['bo', 'rd', 'ate', 't', 'ska', 'sk', 'boar'])\n",
    "res, time()-start"
   ]
  },
  {
   "cell_type": "code",
   "execution_count": 9,
   "id": "4459edbf-d453-43cc-83a0-723ea0ae448b",
   "metadata": {
    "scrolled": true,
    "tags": []
   },
   "outputs": [
    {
     "ename": "KeyboardInterrupt",
     "evalue": "",
     "output_type": "error",
     "traceback": [
      "\u001b[0;31m---------------------------------------------------------------------------\u001b[0m",
      "\u001b[0;31mKeyboardInterrupt\u001b[0m                         Traceback (most recent call last)",
      "\u001b[0;32m/var/folders/vz/2c119y_90h10j5wv341cw7k80000gn/T/ipykernel_29510/1615115851.py\u001b[0m in \u001b[0;36m<module>\u001b[0;34m\u001b[0m\n\u001b[1;32m      1\u001b[0m \u001b[0mstart\u001b[0m \u001b[0;34m=\u001b[0m \u001b[0mtime\u001b[0m\u001b[0;34m(\u001b[0m\u001b[0;34m)\u001b[0m\u001b[0;34m\u001b[0m\u001b[0;34m\u001b[0m\u001b[0m\n\u001b[0;32m----> 2\u001b[0;31m res = canConstruct('eeeeeeeeeeeeeeeeeeeeeeeef',\n\u001b[0m\u001b[1;32m      3\u001b[0m                    ['e', 'ee', 'eee', 'eeee', 'eeeee', 'eeeeee', 'eeeeeee', 'eeeeeeee', 'eeeeeeee'])\n\u001b[1;32m      4\u001b[0m \u001b[0mres\u001b[0m\u001b[0;34m,\u001b[0m \u001b[0mtime\u001b[0m\u001b[0;34m(\u001b[0m\u001b[0;34m)\u001b[0m\u001b[0;34m-\u001b[0m\u001b[0mstart\u001b[0m\u001b[0;34m\u001b[0m\u001b[0;34m\u001b[0m\u001b[0m\n",
      "\u001b[0;32m/var/folders/vz/2c119y_90h10j5wv341cw7k80000gn/T/ipykernel_29510/3168037777.py\u001b[0m in \u001b[0;36mcanConstruct\u001b[0;34m(target, wordbank)\u001b[0m\n\u001b[1;32m     13\u001b[0m \u001b[0;34m\u001b[0m\u001b[0m\n\u001b[1;32m     14\u001b[0m \u001b[0;32mdef\u001b[0m \u001b[0mcanConstruct\u001b[0m\u001b[0;34m(\u001b[0m\u001b[0mtarget\u001b[0m\u001b[0;34m,\u001b[0m \u001b[0mwordbank\u001b[0m\u001b[0;34m)\u001b[0m\u001b[0;34m:\u001b[0m\u001b[0;34m\u001b[0m\u001b[0;34m\u001b[0m\u001b[0m\n\u001b[0;32m---> 15\u001b[0;31m     \u001b[0;32mreturn\u001b[0m \u001b[0mcanConstructRecurse\u001b[0m\u001b[0;34m(\u001b[0m\u001b[0;34m\"\"\u001b[0m\u001b[0;34m,\u001b[0m \u001b[0mtarget\u001b[0m\u001b[0;34m,\u001b[0m \u001b[0mwordbank\u001b[0m\u001b[0;34m)\u001b[0m\u001b[0;34m\u001b[0m\u001b[0;34m\u001b[0m\u001b[0m\n\u001b[0m",
      "\u001b[0;32m/var/folders/vz/2c119y_90h10j5wv341cw7k80000gn/T/ipykernel_29510/3168037777.py\u001b[0m in \u001b[0;36mcanConstructRecurse\u001b[0;34m(constructed_word, target, wordbank)\u001b[0m\n\u001b[1;32m      8\u001b[0m \u001b[0;34m\u001b[0m\u001b[0m\n\u001b[1;32m      9\u001b[0m     \u001b[0;32mfor\u001b[0m \u001b[0mword\u001b[0m \u001b[0;32min\u001b[0m \u001b[0mwordbank\u001b[0m\u001b[0;34m:\u001b[0m\u001b[0;34m\u001b[0m\u001b[0;34m\u001b[0m\u001b[0m\n\u001b[0;32m---> 10\u001b[0;31m         \u001b[0;32mif\u001b[0m \u001b[0mcanConstructRecurse\u001b[0m\u001b[0;34m(\u001b[0m\u001b[0mconstructed_word\u001b[0m \u001b[0;34m+\u001b[0m \u001b[0mword\u001b[0m\u001b[0;34m,\u001b[0m \u001b[0mtarget\u001b[0m\u001b[0;34m,\u001b[0m \u001b[0mwordbank\u001b[0m\u001b[0;34m)\u001b[0m\u001b[0;34m:\u001b[0m\u001b[0;34m\u001b[0m\u001b[0;34m\u001b[0m\u001b[0m\n\u001b[0m\u001b[1;32m     11\u001b[0m             \u001b[0;32mreturn\u001b[0m \u001b[0;32mTrue\u001b[0m\u001b[0;34m\u001b[0m\u001b[0;34m\u001b[0m\u001b[0m\n\u001b[1;32m     12\u001b[0m     \u001b[0;32mreturn\u001b[0m \u001b[0;32mFalse\u001b[0m\u001b[0;34m\u001b[0m\u001b[0;34m\u001b[0m\u001b[0m\n",
      "\u001b[0;32m/var/folders/vz/2c119y_90h10j5wv341cw7k80000gn/T/ipykernel_29510/3168037777.py\u001b[0m in \u001b[0;36mcanConstructRecurse\u001b[0;34m(constructed_word, target, wordbank)\u001b[0m\n\u001b[1;32m      8\u001b[0m \u001b[0;34m\u001b[0m\u001b[0m\n\u001b[1;32m      9\u001b[0m     \u001b[0;32mfor\u001b[0m \u001b[0mword\u001b[0m \u001b[0;32min\u001b[0m \u001b[0mwordbank\u001b[0m\u001b[0;34m:\u001b[0m\u001b[0;34m\u001b[0m\u001b[0;34m\u001b[0m\u001b[0m\n\u001b[0;32m---> 10\u001b[0;31m         \u001b[0;32mif\u001b[0m \u001b[0mcanConstructRecurse\u001b[0m\u001b[0;34m(\u001b[0m\u001b[0mconstructed_word\u001b[0m \u001b[0;34m+\u001b[0m \u001b[0mword\u001b[0m\u001b[0;34m,\u001b[0m \u001b[0mtarget\u001b[0m\u001b[0;34m,\u001b[0m \u001b[0mwordbank\u001b[0m\u001b[0;34m)\u001b[0m\u001b[0;34m:\u001b[0m\u001b[0;34m\u001b[0m\u001b[0;34m\u001b[0m\u001b[0m\n\u001b[0m\u001b[1;32m     11\u001b[0m             \u001b[0;32mreturn\u001b[0m \u001b[0;32mTrue\u001b[0m\u001b[0;34m\u001b[0m\u001b[0;34m\u001b[0m\u001b[0m\n\u001b[1;32m     12\u001b[0m     \u001b[0;32mreturn\u001b[0m \u001b[0;32mFalse\u001b[0m\u001b[0;34m\u001b[0m\u001b[0;34m\u001b[0m\u001b[0m\n",
      "\u001b[0;32m/var/folders/vz/2c119y_90h10j5wv341cw7k80000gn/T/ipykernel_29510/3168037777.py\u001b[0m in \u001b[0;36mcanConstructRecurse\u001b[0;34m(constructed_word, target, wordbank)\u001b[0m\n\u001b[1;32m      8\u001b[0m \u001b[0;34m\u001b[0m\u001b[0m\n\u001b[1;32m      9\u001b[0m     \u001b[0;32mfor\u001b[0m \u001b[0mword\u001b[0m \u001b[0;32min\u001b[0m \u001b[0mwordbank\u001b[0m\u001b[0;34m:\u001b[0m\u001b[0;34m\u001b[0m\u001b[0;34m\u001b[0m\u001b[0m\n\u001b[0;32m---> 10\u001b[0;31m         \u001b[0;32mif\u001b[0m \u001b[0mcanConstructRecurse\u001b[0m\u001b[0;34m(\u001b[0m\u001b[0mconstructed_word\u001b[0m \u001b[0;34m+\u001b[0m \u001b[0mword\u001b[0m\u001b[0;34m,\u001b[0m \u001b[0mtarget\u001b[0m\u001b[0;34m,\u001b[0m \u001b[0mwordbank\u001b[0m\u001b[0;34m)\u001b[0m\u001b[0;34m:\u001b[0m\u001b[0;34m\u001b[0m\u001b[0;34m\u001b[0m\u001b[0m\n\u001b[0m\u001b[1;32m     11\u001b[0m             \u001b[0;32mreturn\u001b[0m \u001b[0;32mTrue\u001b[0m\u001b[0;34m\u001b[0m\u001b[0;34m\u001b[0m\u001b[0m\n\u001b[1;32m     12\u001b[0m     \u001b[0;32mreturn\u001b[0m \u001b[0;32mFalse\u001b[0m\u001b[0;34m\u001b[0m\u001b[0;34m\u001b[0m\u001b[0m\n",
      "\u001b[0;32m/var/folders/vz/2c119y_90h10j5wv341cw7k80000gn/T/ipykernel_29510/3168037777.py\u001b[0m in \u001b[0;36mcanConstructRecurse\u001b[0;34m(constructed_word, target, wordbank)\u001b[0m\n\u001b[1;32m      8\u001b[0m \u001b[0;34m\u001b[0m\u001b[0m\n\u001b[1;32m      9\u001b[0m     \u001b[0;32mfor\u001b[0m \u001b[0mword\u001b[0m \u001b[0;32min\u001b[0m \u001b[0mwordbank\u001b[0m\u001b[0;34m:\u001b[0m\u001b[0;34m\u001b[0m\u001b[0;34m\u001b[0m\u001b[0m\n\u001b[0;32m---> 10\u001b[0;31m         \u001b[0;32mif\u001b[0m \u001b[0mcanConstructRecurse\u001b[0m\u001b[0;34m(\u001b[0m\u001b[0mconstructed_word\u001b[0m \u001b[0;34m+\u001b[0m \u001b[0mword\u001b[0m\u001b[0;34m,\u001b[0m \u001b[0mtarget\u001b[0m\u001b[0;34m,\u001b[0m \u001b[0mwordbank\u001b[0m\u001b[0;34m)\u001b[0m\u001b[0;34m:\u001b[0m\u001b[0;34m\u001b[0m\u001b[0;34m\u001b[0m\u001b[0m\n\u001b[0m\u001b[1;32m     11\u001b[0m             \u001b[0;32mreturn\u001b[0m \u001b[0;32mTrue\u001b[0m\u001b[0;34m\u001b[0m\u001b[0;34m\u001b[0m\u001b[0m\n\u001b[1;32m     12\u001b[0m     \u001b[0;32mreturn\u001b[0m \u001b[0;32mFalse\u001b[0m\u001b[0;34m\u001b[0m\u001b[0;34m\u001b[0m\u001b[0m\n",
      "\u001b[0;32m/var/folders/vz/2c119y_90h10j5wv341cw7k80000gn/T/ipykernel_29510/3168037777.py\u001b[0m in \u001b[0;36mcanConstructRecurse\u001b[0;34m(constructed_word, target, wordbank)\u001b[0m\n\u001b[1;32m      8\u001b[0m \u001b[0;34m\u001b[0m\u001b[0m\n\u001b[1;32m      9\u001b[0m     \u001b[0;32mfor\u001b[0m \u001b[0mword\u001b[0m \u001b[0;32min\u001b[0m \u001b[0mwordbank\u001b[0m\u001b[0;34m:\u001b[0m\u001b[0;34m\u001b[0m\u001b[0;34m\u001b[0m\u001b[0m\n\u001b[0;32m---> 10\u001b[0;31m         \u001b[0;32mif\u001b[0m \u001b[0mcanConstructRecurse\u001b[0m\u001b[0;34m(\u001b[0m\u001b[0mconstructed_word\u001b[0m \u001b[0;34m+\u001b[0m \u001b[0mword\u001b[0m\u001b[0;34m,\u001b[0m \u001b[0mtarget\u001b[0m\u001b[0;34m,\u001b[0m \u001b[0mwordbank\u001b[0m\u001b[0;34m)\u001b[0m\u001b[0;34m:\u001b[0m\u001b[0;34m\u001b[0m\u001b[0;34m\u001b[0m\u001b[0m\n\u001b[0m\u001b[1;32m     11\u001b[0m             \u001b[0;32mreturn\u001b[0m \u001b[0;32mTrue\u001b[0m\u001b[0;34m\u001b[0m\u001b[0;34m\u001b[0m\u001b[0m\n\u001b[1;32m     12\u001b[0m     \u001b[0;32mreturn\u001b[0m \u001b[0;32mFalse\u001b[0m\u001b[0;34m\u001b[0m\u001b[0;34m\u001b[0m\u001b[0m\n",
      "\u001b[0;32m/var/folders/vz/2c119y_90h10j5wv341cw7k80000gn/T/ipykernel_29510/3168037777.py\u001b[0m in \u001b[0;36mcanConstructRecurse\u001b[0;34m(constructed_word, target, wordbank)\u001b[0m\n\u001b[1;32m      8\u001b[0m \u001b[0;34m\u001b[0m\u001b[0m\n\u001b[1;32m      9\u001b[0m     \u001b[0;32mfor\u001b[0m \u001b[0mword\u001b[0m \u001b[0;32min\u001b[0m \u001b[0mwordbank\u001b[0m\u001b[0;34m:\u001b[0m\u001b[0;34m\u001b[0m\u001b[0;34m\u001b[0m\u001b[0m\n\u001b[0;32m---> 10\u001b[0;31m         \u001b[0;32mif\u001b[0m \u001b[0mcanConstructRecurse\u001b[0m\u001b[0;34m(\u001b[0m\u001b[0mconstructed_word\u001b[0m \u001b[0;34m+\u001b[0m \u001b[0mword\u001b[0m\u001b[0;34m,\u001b[0m \u001b[0mtarget\u001b[0m\u001b[0;34m,\u001b[0m \u001b[0mwordbank\u001b[0m\u001b[0;34m)\u001b[0m\u001b[0;34m:\u001b[0m\u001b[0;34m\u001b[0m\u001b[0;34m\u001b[0m\u001b[0m\n\u001b[0m\u001b[1;32m     11\u001b[0m             \u001b[0;32mreturn\u001b[0m \u001b[0;32mTrue\u001b[0m\u001b[0;34m\u001b[0m\u001b[0;34m\u001b[0m\u001b[0m\n\u001b[1;32m     12\u001b[0m     \u001b[0;32mreturn\u001b[0m \u001b[0;32mFalse\u001b[0m\u001b[0;34m\u001b[0m\u001b[0;34m\u001b[0m\u001b[0m\n",
      "\u001b[0;32m/var/folders/vz/2c119y_90h10j5wv341cw7k80000gn/T/ipykernel_29510/3168037777.py\u001b[0m in \u001b[0;36mcanConstructRecurse\u001b[0;34m(constructed_word, target, wordbank)\u001b[0m\n\u001b[1;32m      8\u001b[0m \u001b[0;34m\u001b[0m\u001b[0m\n\u001b[1;32m      9\u001b[0m     \u001b[0;32mfor\u001b[0m \u001b[0mword\u001b[0m \u001b[0;32min\u001b[0m \u001b[0mwordbank\u001b[0m\u001b[0;34m:\u001b[0m\u001b[0;34m\u001b[0m\u001b[0;34m\u001b[0m\u001b[0m\n\u001b[0;32m---> 10\u001b[0;31m         \u001b[0;32mif\u001b[0m \u001b[0mcanConstructRecurse\u001b[0m\u001b[0;34m(\u001b[0m\u001b[0mconstructed_word\u001b[0m \u001b[0;34m+\u001b[0m \u001b[0mword\u001b[0m\u001b[0;34m,\u001b[0m \u001b[0mtarget\u001b[0m\u001b[0;34m,\u001b[0m \u001b[0mwordbank\u001b[0m\u001b[0;34m)\u001b[0m\u001b[0;34m:\u001b[0m\u001b[0;34m\u001b[0m\u001b[0;34m\u001b[0m\u001b[0m\n\u001b[0m\u001b[1;32m     11\u001b[0m             \u001b[0;32mreturn\u001b[0m \u001b[0;32mTrue\u001b[0m\u001b[0;34m\u001b[0m\u001b[0;34m\u001b[0m\u001b[0m\n\u001b[1;32m     12\u001b[0m     \u001b[0;32mreturn\u001b[0m \u001b[0;32mFalse\u001b[0m\u001b[0;34m\u001b[0m\u001b[0;34m\u001b[0m\u001b[0m\n",
      "\u001b[0;32m/var/folders/vz/2c119y_90h10j5wv341cw7k80000gn/T/ipykernel_29510/3168037777.py\u001b[0m in \u001b[0;36mcanConstructRecurse\u001b[0;34m(constructed_word, target, wordbank)\u001b[0m\n\u001b[1;32m      8\u001b[0m \u001b[0;34m\u001b[0m\u001b[0m\n\u001b[1;32m      9\u001b[0m     \u001b[0;32mfor\u001b[0m \u001b[0mword\u001b[0m \u001b[0;32min\u001b[0m \u001b[0mwordbank\u001b[0m\u001b[0;34m:\u001b[0m\u001b[0;34m\u001b[0m\u001b[0;34m\u001b[0m\u001b[0m\n\u001b[0;32m---> 10\u001b[0;31m         \u001b[0;32mif\u001b[0m \u001b[0mcanConstructRecurse\u001b[0m\u001b[0;34m(\u001b[0m\u001b[0mconstructed_word\u001b[0m \u001b[0;34m+\u001b[0m \u001b[0mword\u001b[0m\u001b[0;34m,\u001b[0m \u001b[0mtarget\u001b[0m\u001b[0;34m,\u001b[0m \u001b[0mwordbank\u001b[0m\u001b[0;34m)\u001b[0m\u001b[0;34m:\u001b[0m\u001b[0;34m\u001b[0m\u001b[0;34m\u001b[0m\u001b[0m\n\u001b[0m\u001b[1;32m     11\u001b[0m             \u001b[0;32mreturn\u001b[0m \u001b[0;32mTrue\u001b[0m\u001b[0;34m\u001b[0m\u001b[0;34m\u001b[0m\u001b[0m\n\u001b[1;32m     12\u001b[0m     \u001b[0;32mreturn\u001b[0m \u001b[0;32mFalse\u001b[0m\u001b[0;34m\u001b[0m\u001b[0;34m\u001b[0m\u001b[0m\n",
      "\u001b[0;32m/var/folders/vz/2c119y_90h10j5wv341cw7k80000gn/T/ipykernel_29510/3168037777.py\u001b[0m in \u001b[0;36mcanConstructRecurse\u001b[0;34m(constructed_word, target, wordbank)\u001b[0m\n\u001b[1;32m      8\u001b[0m \u001b[0;34m\u001b[0m\u001b[0m\n\u001b[1;32m      9\u001b[0m     \u001b[0;32mfor\u001b[0m \u001b[0mword\u001b[0m \u001b[0;32min\u001b[0m \u001b[0mwordbank\u001b[0m\u001b[0;34m:\u001b[0m\u001b[0;34m\u001b[0m\u001b[0;34m\u001b[0m\u001b[0m\n\u001b[0;32m---> 10\u001b[0;31m         \u001b[0;32mif\u001b[0m \u001b[0mcanConstructRecurse\u001b[0m\u001b[0;34m(\u001b[0m\u001b[0mconstructed_word\u001b[0m \u001b[0;34m+\u001b[0m \u001b[0mword\u001b[0m\u001b[0;34m,\u001b[0m \u001b[0mtarget\u001b[0m\u001b[0;34m,\u001b[0m \u001b[0mwordbank\u001b[0m\u001b[0;34m)\u001b[0m\u001b[0;34m:\u001b[0m\u001b[0;34m\u001b[0m\u001b[0;34m\u001b[0m\u001b[0m\n\u001b[0m\u001b[1;32m     11\u001b[0m             \u001b[0;32mreturn\u001b[0m \u001b[0;32mTrue\u001b[0m\u001b[0;34m\u001b[0m\u001b[0;34m\u001b[0m\u001b[0m\n\u001b[1;32m     12\u001b[0m     \u001b[0;32mreturn\u001b[0m \u001b[0;32mFalse\u001b[0m\u001b[0;34m\u001b[0m\u001b[0;34m\u001b[0m\u001b[0m\n",
      "\u001b[0;32m/var/folders/vz/2c119y_90h10j5wv341cw7k80000gn/T/ipykernel_29510/3168037777.py\u001b[0m in \u001b[0;36mcanConstructRecurse\u001b[0;34m(constructed_word, target, wordbank)\u001b[0m\n\u001b[1;32m      8\u001b[0m \u001b[0;34m\u001b[0m\u001b[0m\n\u001b[1;32m      9\u001b[0m     \u001b[0;32mfor\u001b[0m \u001b[0mword\u001b[0m \u001b[0;32min\u001b[0m \u001b[0mwordbank\u001b[0m\u001b[0;34m:\u001b[0m\u001b[0;34m\u001b[0m\u001b[0;34m\u001b[0m\u001b[0m\n\u001b[0;32m---> 10\u001b[0;31m         \u001b[0;32mif\u001b[0m \u001b[0mcanConstructRecurse\u001b[0m\u001b[0;34m(\u001b[0m\u001b[0mconstructed_word\u001b[0m \u001b[0;34m+\u001b[0m \u001b[0mword\u001b[0m\u001b[0;34m,\u001b[0m \u001b[0mtarget\u001b[0m\u001b[0;34m,\u001b[0m \u001b[0mwordbank\u001b[0m\u001b[0;34m)\u001b[0m\u001b[0;34m:\u001b[0m\u001b[0;34m\u001b[0m\u001b[0;34m\u001b[0m\u001b[0m\n\u001b[0m\u001b[1;32m     11\u001b[0m             \u001b[0;32mreturn\u001b[0m \u001b[0;32mTrue\u001b[0m\u001b[0;34m\u001b[0m\u001b[0;34m\u001b[0m\u001b[0m\n\u001b[1;32m     12\u001b[0m     \u001b[0;32mreturn\u001b[0m \u001b[0;32mFalse\u001b[0m\u001b[0;34m\u001b[0m\u001b[0;34m\u001b[0m\u001b[0m\n",
      "\u001b[0;32m/var/folders/vz/2c119y_90h10j5wv341cw7k80000gn/T/ipykernel_29510/3168037777.py\u001b[0m in \u001b[0;36mcanConstructRecurse\u001b[0;34m(constructed_word, target, wordbank)\u001b[0m\n\u001b[1;32m      8\u001b[0m \u001b[0;34m\u001b[0m\u001b[0m\n\u001b[1;32m      9\u001b[0m     \u001b[0;32mfor\u001b[0m \u001b[0mword\u001b[0m \u001b[0;32min\u001b[0m \u001b[0mwordbank\u001b[0m\u001b[0;34m:\u001b[0m\u001b[0;34m\u001b[0m\u001b[0;34m\u001b[0m\u001b[0m\n\u001b[0;32m---> 10\u001b[0;31m         \u001b[0;32mif\u001b[0m \u001b[0mcanConstructRecurse\u001b[0m\u001b[0;34m(\u001b[0m\u001b[0mconstructed_word\u001b[0m \u001b[0;34m+\u001b[0m \u001b[0mword\u001b[0m\u001b[0;34m,\u001b[0m \u001b[0mtarget\u001b[0m\u001b[0;34m,\u001b[0m \u001b[0mwordbank\u001b[0m\u001b[0;34m)\u001b[0m\u001b[0;34m:\u001b[0m\u001b[0;34m\u001b[0m\u001b[0;34m\u001b[0m\u001b[0m\n\u001b[0m\u001b[1;32m     11\u001b[0m             \u001b[0;32mreturn\u001b[0m \u001b[0;32mTrue\u001b[0m\u001b[0;34m\u001b[0m\u001b[0;34m\u001b[0m\u001b[0m\n\u001b[1;32m     12\u001b[0m     \u001b[0;32mreturn\u001b[0m \u001b[0;32mFalse\u001b[0m\u001b[0;34m\u001b[0m\u001b[0;34m\u001b[0m\u001b[0m\n",
      "\u001b[0;32m/var/folders/vz/2c119y_90h10j5wv341cw7k80000gn/T/ipykernel_29510/3168037777.py\u001b[0m in \u001b[0;36mcanConstructRecurse\u001b[0;34m(constructed_word, target, wordbank)\u001b[0m\n\u001b[1;32m      8\u001b[0m \u001b[0;34m\u001b[0m\u001b[0m\n\u001b[1;32m      9\u001b[0m     \u001b[0;32mfor\u001b[0m \u001b[0mword\u001b[0m \u001b[0;32min\u001b[0m \u001b[0mwordbank\u001b[0m\u001b[0;34m:\u001b[0m\u001b[0;34m\u001b[0m\u001b[0;34m\u001b[0m\u001b[0m\n\u001b[0;32m---> 10\u001b[0;31m         \u001b[0;32mif\u001b[0m \u001b[0mcanConstructRecurse\u001b[0m\u001b[0;34m(\u001b[0m\u001b[0mconstructed_word\u001b[0m \u001b[0;34m+\u001b[0m \u001b[0mword\u001b[0m\u001b[0;34m,\u001b[0m \u001b[0mtarget\u001b[0m\u001b[0;34m,\u001b[0m \u001b[0mwordbank\u001b[0m\u001b[0;34m)\u001b[0m\u001b[0;34m:\u001b[0m\u001b[0;34m\u001b[0m\u001b[0;34m\u001b[0m\u001b[0m\n\u001b[0m\u001b[1;32m     11\u001b[0m             \u001b[0;32mreturn\u001b[0m \u001b[0;32mTrue\u001b[0m\u001b[0;34m\u001b[0m\u001b[0;34m\u001b[0m\u001b[0m\n\u001b[1;32m     12\u001b[0m     \u001b[0;32mreturn\u001b[0m \u001b[0;32mFalse\u001b[0m\u001b[0;34m\u001b[0m\u001b[0;34m\u001b[0m\u001b[0m\n",
      "\u001b[0;32m/var/folders/vz/2c119y_90h10j5wv341cw7k80000gn/T/ipykernel_29510/3168037777.py\u001b[0m in \u001b[0;36mcanConstructRecurse\u001b[0;34m(constructed_word, target, wordbank)\u001b[0m\n\u001b[1;32m      8\u001b[0m \u001b[0;34m\u001b[0m\u001b[0m\n\u001b[1;32m      9\u001b[0m     \u001b[0;32mfor\u001b[0m \u001b[0mword\u001b[0m \u001b[0;32min\u001b[0m \u001b[0mwordbank\u001b[0m\u001b[0;34m:\u001b[0m\u001b[0;34m\u001b[0m\u001b[0;34m\u001b[0m\u001b[0m\n\u001b[0;32m---> 10\u001b[0;31m         \u001b[0;32mif\u001b[0m \u001b[0mcanConstructRecurse\u001b[0m\u001b[0;34m(\u001b[0m\u001b[0mconstructed_word\u001b[0m \u001b[0;34m+\u001b[0m \u001b[0mword\u001b[0m\u001b[0;34m,\u001b[0m \u001b[0mtarget\u001b[0m\u001b[0;34m,\u001b[0m \u001b[0mwordbank\u001b[0m\u001b[0;34m)\u001b[0m\u001b[0;34m:\u001b[0m\u001b[0;34m\u001b[0m\u001b[0;34m\u001b[0m\u001b[0m\n\u001b[0m\u001b[1;32m     11\u001b[0m             \u001b[0;32mreturn\u001b[0m \u001b[0;32mTrue\u001b[0m\u001b[0;34m\u001b[0m\u001b[0;34m\u001b[0m\u001b[0m\n\u001b[1;32m     12\u001b[0m     \u001b[0;32mreturn\u001b[0m \u001b[0;32mFalse\u001b[0m\u001b[0;34m\u001b[0m\u001b[0;34m\u001b[0m\u001b[0m\n",
      "\u001b[0;32m/var/folders/vz/2c119y_90h10j5wv341cw7k80000gn/T/ipykernel_29510/3168037777.py\u001b[0m in \u001b[0;36mcanConstructRecurse\u001b[0;34m(constructed_word, target, wordbank)\u001b[0m\n\u001b[1;32m      8\u001b[0m \u001b[0;34m\u001b[0m\u001b[0m\n\u001b[1;32m      9\u001b[0m     \u001b[0;32mfor\u001b[0m \u001b[0mword\u001b[0m \u001b[0;32min\u001b[0m \u001b[0mwordbank\u001b[0m\u001b[0;34m:\u001b[0m\u001b[0;34m\u001b[0m\u001b[0;34m\u001b[0m\u001b[0m\n\u001b[0;32m---> 10\u001b[0;31m         \u001b[0;32mif\u001b[0m \u001b[0mcanConstructRecurse\u001b[0m\u001b[0;34m(\u001b[0m\u001b[0mconstructed_word\u001b[0m \u001b[0;34m+\u001b[0m \u001b[0mword\u001b[0m\u001b[0;34m,\u001b[0m \u001b[0mtarget\u001b[0m\u001b[0;34m,\u001b[0m \u001b[0mwordbank\u001b[0m\u001b[0;34m)\u001b[0m\u001b[0;34m:\u001b[0m\u001b[0;34m\u001b[0m\u001b[0;34m\u001b[0m\u001b[0m\n\u001b[0m\u001b[1;32m     11\u001b[0m             \u001b[0;32mreturn\u001b[0m \u001b[0;32mTrue\u001b[0m\u001b[0;34m\u001b[0m\u001b[0;34m\u001b[0m\u001b[0m\n\u001b[1;32m     12\u001b[0m     \u001b[0;32mreturn\u001b[0m \u001b[0;32mFalse\u001b[0m\u001b[0;34m\u001b[0m\u001b[0;34m\u001b[0m\u001b[0m\n",
      "\u001b[0;32m/var/folders/vz/2c119y_90h10j5wv341cw7k80000gn/T/ipykernel_29510/3168037777.py\u001b[0m in \u001b[0;36mcanConstructRecurse\u001b[0;34m(constructed_word, target, wordbank)\u001b[0m\n\u001b[1;32m      8\u001b[0m \u001b[0;34m\u001b[0m\u001b[0m\n\u001b[1;32m      9\u001b[0m     \u001b[0;32mfor\u001b[0m \u001b[0mword\u001b[0m \u001b[0;32min\u001b[0m \u001b[0mwordbank\u001b[0m\u001b[0;34m:\u001b[0m\u001b[0;34m\u001b[0m\u001b[0;34m\u001b[0m\u001b[0m\n\u001b[0;32m---> 10\u001b[0;31m         \u001b[0;32mif\u001b[0m \u001b[0mcanConstructRecurse\u001b[0m\u001b[0;34m(\u001b[0m\u001b[0mconstructed_word\u001b[0m \u001b[0;34m+\u001b[0m \u001b[0mword\u001b[0m\u001b[0;34m,\u001b[0m \u001b[0mtarget\u001b[0m\u001b[0;34m,\u001b[0m \u001b[0mwordbank\u001b[0m\u001b[0;34m)\u001b[0m\u001b[0;34m:\u001b[0m\u001b[0;34m\u001b[0m\u001b[0;34m\u001b[0m\u001b[0m\n\u001b[0m\u001b[1;32m     11\u001b[0m             \u001b[0;32mreturn\u001b[0m \u001b[0;32mTrue\u001b[0m\u001b[0;34m\u001b[0m\u001b[0;34m\u001b[0m\u001b[0m\n\u001b[1;32m     12\u001b[0m     \u001b[0;32mreturn\u001b[0m \u001b[0;32mFalse\u001b[0m\u001b[0;34m\u001b[0m\u001b[0;34m\u001b[0m\u001b[0m\n",
      "\u001b[0;32m/var/folders/vz/2c119y_90h10j5wv341cw7k80000gn/T/ipykernel_29510/3168037777.py\u001b[0m in \u001b[0;36mcanConstructRecurse\u001b[0;34m(constructed_word, target, wordbank)\u001b[0m\n\u001b[1;32m      8\u001b[0m \u001b[0;34m\u001b[0m\u001b[0m\n\u001b[1;32m      9\u001b[0m     \u001b[0;32mfor\u001b[0m \u001b[0mword\u001b[0m \u001b[0;32min\u001b[0m \u001b[0mwordbank\u001b[0m\u001b[0;34m:\u001b[0m\u001b[0;34m\u001b[0m\u001b[0;34m\u001b[0m\u001b[0m\n\u001b[0;32m---> 10\u001b[0;31m         \u001b[0;32mif\u001b[0m \u001b[0mcanConstructRecurse\u001b[0m\u001b[0;34m(\u001b[0m\u001b[0mconstructed_word\u001b[0m \u001b[0;34m+\u001b[0m \u001b[0mword\u001b[0m\u001b[0;34m,\u001b[0m \u001b[0mtarget\u001b[0m\u001b[0;34m,\u001b[0m \u001b[0mwordbank\u001b[0m\u001b[0;34m)\u001b[0m\u001b[0;34m:\u001b[0m\u001b[0;34m\u001b[0m\u001b[0;34m\u001b[0m\u001b[0m\n\u001b[0m\u001b[1;32m     11\u001b[0m             \u001b[0;32mreturn\u001b[0m \u001b[0;32mTrue\u001b[0m\u001b[0;34m\u001b[0m\u001b[0;34m\u001b[0m\u001b[0m\n\u001b[1;32m     12\u001b[0m     \u001b[0;32mreturn\u001b[0m \u001b[0;32mFalse\u001b[0m\u001b[0;34m\u001b[0m\u001b[0;34m\u001b[0m\u001b[0m\n",
      "\u001b[0;32m/var/folders/vz/2c119y_90h10j5wv341cw7k80000gn/T/ipykernel_29510/3168037777.py\u001b[0m in \u001b[0;36mcanConstructRecurse\u001b[0;34m(constructed_word, target, wordbank)\u001b[0m\n\u001b[1;32m      2\u001b[0m     \u001b[0;32mif\u001b[0m \u001b[0mconstructed_word\u001b[0m \u001b[0;34m==\u001b[0m \u001b[0mtarget\u001b[0m\u001b[0;34m:\u001b[0m\u001b[0;34m\u001b[0m\u001b[0;34m\u001b[0m\u001b[0m\n\u001b[1;32m      3\u001b[0m         \u001b[0;32mreturn\u001b[0m \u001b[0;32mTrue\u001b[0m\u001b[0;34m\u001b[0m\u001b[0;34m\u001b[0m\u001b[0m\n\u001b[0;32m----> 4\u001b[0;31m     \u001b[0;32melif\u001b[0m \u001b[0mlen\u001b[0m\u001b[0;34m(\u001b[0m\u001b[0mconstructed_word\u001b[0m\u001b[0;34m)\u001b[0m \u001b[0;34m>=\u001b[0m \u001b[0mlen\u001b[0m\u001b[0;34m(\u001b[0m\u001b[0mtarget\u001b[0m\u001b[0;34m)\u001b[0m\u001b[0;34m:\u001b[0m\u001b[0;34m\u001b[0m\u001b[0;34m\u001b[0m\u001b[0m\n\u001b[0m\u001b[1;32m      5\u001b[0m         \u001b[0;32mreturn\u001b[0m \u001b[0;32mFalse\u001b[0m\u001b[0;34m\u001b[0m\u001b[0;34m\u001b[0m\u001b[0m\n\u001b[1;32m      6\u001b[0m     \u001b[0;32melif\u001b[0m \u001b[0mconstructed_word\u001b[0m \u001b[0;32mnot\u001b[0m \u001b[0;32min\u001b[0m \u001b[0mtarget\u001b[0m\u001b[0;34m:\u001b[0m\u001b[0;34m\u001b[0m\u001b[0;34m\u001b[0m\u001b[0m\n",
      "\u001b[0;31mKeyboardInterrupt\u001b[0m: "
     ]
    }
   ],
   "source": [
    "start = time()\n",
    "res = canConstruct('eeeeeeeeeeeeeeeeeeeeeeeef',\n",
    "                   ['e', 'ee', 'eee', 'eeee', 'eeeee', 'eeeeee', 'eeeeeee', 'eeeeeeee', 'eeeeeeee'])\n",
    "res, time()-start"
   ]
  },
  {
   "cell_type": "code",
   "execution_count": 10,
   "id": "20025b8e-c1d3-4777-9647-c75a129359a7",
   "metadata": {},
   "outputs": [
    {
     "data": {
      "text/plain": [
       "(False, 0.0002570152282714844)"
      ]
     },
     "execution_count": 10,
     "metadata": {},
     "output_type": "execute_result"
    }
   ],
   "source": [
    "start = time()\n",
    "res = canConstructMemo('eeeeeeeeeeeeeeeeeeeeeeeef',\n",
    "                   ['e', 'ee', 'eee', 'eeee', 'eeeee', 'eeeeee', 'eeeeeee', 'eeeeeeee', 'eeeeeeee'])\n",
    "res, time()-start"
   ]
  },
  {
   "cell_type": "code",
   "execution_count": 11,
   "id": "75ec393b-6b23-4e75-a6ac-2c2250141b88",
   "metadata": {},
   "outputs": [],
   "source": [
    "def countConstructRecurseMemo(constructed_word, target,wordbank, dct_memo):\n",
    "    if constructed_word in dct_memo:\n",
    "        return dct_memo[constructed_word]\n",
    "    elif constructed_word == target:\n",
    "        return 1\n",
    "    elif len(constructed_word) >= len(target):\n",
    "        return 0\n",
    "    elif constructed_word not in target:\n",
    "        return 0\n",
    "    \n",
    "    poss_count = 0\n",
    "    \n",
    "    for word in wordbank:\n",
    "        poss_count += countConstructRecurseMemo(constructed_word + word, target, wordbank, dct_memo)\n",
    "            \n",
    "    dct_memo[constructed_word] = poss_count\n",
    "    return poss_count\n",
    "       \n",
    "def countConstructMemo(target, wordbank):\n",
    "    dct_memo = {}\n",
    "    return countConstructRecurseMemo(\"\", target, wordbank, dct_memo)"
   ]
  },
  {
   "cell_type": "code",
   "execution_count": null,
   "id": "88d9e9a1-2ef6-4f00-aabe-8cbe8e1c86f9",
   "metadata": {},
   "outputs": [],
   "source": []
  },
  {
   "cell_type": "code",
   "execution_count": 14,
   "id": "b8690a81-20a4-4f07-bbf1-6d06e3a2a1f0",
   "metadata": {},
   "outputs": [
    {
     "data": {
      "text/plain": [
       "(0, 0.0003619194030761719)"
      ]
     },
     "execution_count": 14,
     "metadata": {},
     "output_type": "execute_result"
    }
   ],
   "source": [
    "start = time()\n",
    "res = countConstructMemo('eeeeeeeeeeeeeeeeeeeeeeeef',\n",
    "                   ['e', 'ee', 'eee', 'eeee', 'eeeee', 'eeeeee', 'eeeeeee', 'eeeeeeee', 'eeeeeeee'])\n",
    "res, time()-start"
   ]
  },
  {
   "cell_type": "code",
   "execution_count": 15,
   "id": "ce905fd2-6614-4c2c-9ccc-2266ae5a649b",
   "metadata": {},
   "outputs": [
    {
     "data": {
      "text/plain": [
       "(0, 0.0001709461212158203)"
      ]
     },
     "execution_count": 15,
     "metadata": {},
     "output_type": "execute_result"
    }
   ],
   "source": [
    "start = time()\n",
    "res = countConstructMemo('skateboard',['bo', 'rd', 'ate', 't', 'ska', 'sk', 'boar'])\n",
    "res, time()-start"
   ]
  },
  {
   "cell_type": "code",
   "execution_count": 16,
   "id": "face8ce5-2fdb-4113-8b1c-9226c1775a48",
   "metadata": {},
   "outputs": [
    {
     "data": {
      "text/plain": [
       "(1, 0.00013017654418945312)"
      ]
     },
     "execution_count": 16,
     "metadata": {},
     "output_type": "execute_result"
    }
   ],
   "source": [
    "start = time()\n",
    "res = countConstructMemo('abcdef',['ab', 'abc', 'cd', 'def', 'abcd'])\n",
    "res, time()-start"
   ]
  },
  {
   "cell_type": "code",
   "execution_count": 20,
   "id": "c7ec7134-20e4-47cf-875b-47c3cc91da00",
   "metadata": {},
   "outputs": [
    {
     "data": {
      "text/plain": [
       "(8421505, 0.000701904296875)"
      ]
     },
     "execution_count": 20,
     "metadata": {},
     "output_type": "execute_result"
    }
   ],
   "source": [
    "start = time()\n",
    "res = countConstructMemo('eeeeeeeeeeeeeeeeeeeeeeee',\n",
    "                   ['e', 'ee', 'eee', 'eeee', 'eeeee', 'eeeeee', 'eeeeeee', 'eeeeeeee', 'eeeeeeee'])\n",
    "res, time()-start"
   ]
  },
  {
   "cell_type": "code",
   "execution_count": null,
   "id": "73eb2c0c-b1bf-4838-adb7-3dcc92dba424",
   "metadata": {},
   "outputs": [],
   "source": []
  },
  {
   "cell_type": "code",
   "execution_count": 17,
   "id": "0ffbe6ba-d2fd-42bb-91eb-643d4ec0276c",
   "metadata": {},
   "outputs": [],
   "source": [
    "def allConstructRecurseMemo(constructed_word, constructed_lst, target,wordbank, dct_memo):\n",
    "    str_id = '-'.join(constructed_lst)\n",
    "    if str_id in dct_memo:\n",
    "        return dct_memo[str_id]\n",
    "    elif constructed_word == target:\n",
    "        return [constructed_lst]\n",
    "    elif len(constructed_word) >= len(target):\n",
    "        return []\n",
    "    elif constructed_word not in target:\n",
    "        return []\n",
    "    \n",
    "    poss_lst = []\n",
    "    \n",
    "    for word in wordbank:\n",
    "        temp_lst = allConstructRecurseMemo(constructed_word + word, constructed_lst + [word], target, wordbank, dct_memo)\n",
    "        if temp_lst:\n",
    "            poss_lst += temp_lst\n",
    "            \n",
    "    dct_memo[str(str_id)] = poss_lst\n",
    "    return poss_lst\n",
    "       \n",
    "def allConstructMemo(target, wordbank):\n",
    "    sorted_wordbank = sorted(wordbank, key=len, reverse=True)\n",
    "    \n",
    "    dct_memo = {}\n",
    "    return allConstructRecurseMemo(\"\", [], target, sorted_wordbank, dct_memo)"
   ]
  },
  {
   "cell_type": "code",
   "execution_count": 18,
   "id": "c148cab5-289b-405f-af5e-0a8e4b65107c",
   "metadata": {},
   "outputs": [
    {
     "data": {
      "text/plain": [
       "([['abcd', 'ef'], ['abc', 'def'], ['ab', 'cd', 'ef']], 0.0001621246337890625)"
      ]
     },
     "execution_count": 18,
     "metadata": {},
     "output_type": "execute_result"
    }
   ],
   "source": [
    "start = time()\n",
    "res = allConstructMemo('abcdef',['ab', 'abc', 'cd', 'def', 'abcd', 'ef'])\n",
    "res, time()-start"
   ]
  },
  {
   "cell_type": "code",
   "execution_count": 19,
   "id": "037123d9-4325-486d-8900-e60e7e3a9394",
   "metadata": {},
   "outputs": [
    {
     "data": {
      "text/plain": [
       "([], 0.01773977279663086)"
      ]
     },
     "execution_count": 19,
     "metadata": {},
     "output_type": "execute_result"
    }
   ],
   "source": [
    "start = time()\n",
    "res = allConstructMemo('eeeeeeeeeeeeeeeeeeeeeeeeef',\n",
    "                   ['eeee', 'eeeee', 'eeeeee', 'eeeeeee', 'eeeeeeee', 'eeeeeeee'])\n",
    "res, time()-start"
   ]
  },
  {
   "cell_type": "code",
   "execution_count": null,
   "id": "399d288c-b805-46e0-ad43-bb432fe9b972",
   "metadata": {},
   "outputs": [],
   "source": []
  },
  {
   "cell_type": "code",
   "execution_count": null,
   "id": "c25dd7ae-0dd8-47ae-9d53-5d9b3da6448f",
   "metadata": {},
   "outputs": [],
   "source": []
  }
 ],
 "metadata": {
  "kernelspec": {
   "display_name": "Python 3 (ipykernel)",
   "language": "python",
   "name": "python3"
  },
  "language_info": {
   "codemirror_mode": {
    "name": "ipython",
    "version": 3
   },
   "file_extension": ".py",
   "mimetype": "text/x-python",
   "name": "python",
   "nbconvert_exporter": "python",
   "pygments_lexer": "ipython3",
   "version": "3.9.16"
  }
 },
 "nbformat": 4,
 "nbformat_minor": 5
}
