{
 "cells": [
  {
   "cell_type": "markdown",
   "id": "9afc9d95-b09a-4eac-acf4-742cb418b87e",
   "metadata": {},
   "source": [
    "## Quick Sort"
   ]
  },
  {
   "cell_type": "code",
   "execution_count": 55,
   "id": "d2fd55eb-57c5-4269-8e6a-504b32cccd65",
   "metadata": {},
   "outputs": [],
   "source": [
    "def quick_sort(arr):\n",
    "    if len(arr) == 1:\n",
    "        return arr\n",
    "    elif len(arr) == 0:\n",
    "        return arr\n",
    "    \n",
    "    pivot = arr[0]\n",
    "    left = []\n",
    "    right = []\n",
    "    for x in arr[1:]:\n",
    "        if x < pivot:\n",
    "            left += [x]\n",
    "        else:\n",
    "            right += [x]\n",
    "    return quick_sort(left) + [pivot] + quick_sort(right)"
   ]
  },
  {
   "cell_type": "markdown",
   "id": "2200a785-a270-43a7-8c1b-b7871d255e39",
   "metadata": {},
   "source": [
    "## Merge Sort"
   ]
  },
  {
   "cell_type": "code",
   "execution_count": 1,
   "id": "60fb41ab-268d-40cf-98d7-b8bf0148eab6",
   "metadata": {},
   "outputs": [],
   "source": [
    "def merge(arr1,arr2):\n",
    "    if not(arr1) or not(arr2):\n",
    "        return arr1 + arr2\n",
    "    new_arr = []\n",
    "    i,j = 0,0\n",
    "    while (i < len(arr1)) and (j < len(arr2)):\n",
    "        x1 = arr1[i]\n",
    "        x2 = arr2[j]\n",
    "        if x1 > x2:\n",
    "            new_arr += [x2]\n",
    "            j+=1\n",
    "        else:\n",
    "            new_arr += [x1]\n",
    "            i+=1\n",
    "    if i < len(arr1):\n",
    "        new_arr += arr1[i:]\n",
    "    else:\n",
    "        new_arr += arr2[j:]\n",
    "    return new_arr\n",
    "\n",
    "def merge_sort(arr):\n",
    "    if len(arr) == 1:\n",
    "        return arr\n",
    "    elif len(arr) == 0:\n",
    "        return arr\n",
    "    \n",
    "    i_mid = len(arr)//2\n",
    "    left = merge_sort(arr[:i_mid])\n",
    "    right = merge_sort(arr[i_mid:])\n",
    "    \n",
    "    return merge(left,right)"
   ]
  },
  {
   "cell_type": "markdown",
   "id": "9f56cddd-3cc6-4708-954a-f9af0771d82c",
   "metadata": {},
   "source": [
    "## Sample Executions"
   ]
  },
  {
   "cell_type": "code",
   "execution_count": 56,
   "id": "619439e0-90f5-4a67-8891-e8e90c33129c",
   "metadata": {},
   "outputs": [],
   "source": [
    "arrx = [1,1,12,13,5,6,8]"
   ]
  },
  {
   "cell_type": "code",
   "execution_count": 57,
   "id": "5fcd522a-c764-488b-a037-0f5b270ea0e6",
   "metadata": {},
   "outputs": [
    {
     "data": {
      "text/plain": [
       "[1, 1, 5, 6, 8, 12, 13]"
      ]
     },
     "execution_count": 57,
     "metadata": {},
     "output_type": "execute_result"
    }
   ],
   "source": [
    "quick_sort(arrx)"
   ]
  },
  {
   "cell_type": "code",
   "execution_count": 58,
   "id": "fcd6ccfa-7555-486e-ae41-ae79a6869d1b",
   "metadata": {},
   "outputs": [
    {
     "data": {
      "text/plain": [
       "[1, 1, 5, 6, 8, 12, 13]"
      ]
     },
     "execution_count": 58,
     "metadata": {},
     "output_type": "execute_result"
    }
   ],
   "source": [
    "merge_sort(arrx)"
   ]
  },
  {
   "cell_type": "code",
   "execution_count": null,
   "id": "fcc673f0-da9f-4bc1-9d01-6b460d204932",
   "metadata": {},
   "outputs": [],
   "source": []
  },
  {
   "cell_type": "code",
   "execution_count": null,
   "id": "0c4e2e1b-4e07-444b-95b8-713482cc5d36",
   "metadata": {},
   "outputs": [],
   "source": []
  },
  {
   "cell_type": "code",
   "execution_count": null,
   "id": "e7a440f2-6aa3-4aea-a495-abfabcf40fc2",
   "metadata": {},
   "outputs": [],
   "source": []
  },
  {
   "cell_type": "code",
   "execution_count": null,
   "id": "ee7a8ec2-8804-467f-b43e-53938450fb96",
   "metadata": {},
   "outputs": [],
   "source": []
  }
 ],
 "metadata": {
  "kernelspec": {
   "display_name": "Python 3 (ipykernel)",
   "language": "python",
   "name": "python3"
  },
  "language_info": {
   "codemirror_mode": {
    "name": "ipython",
    "version": 3
   },
   "file_extension": ".py",
   "mimetype": "text/x-python",
   "name": "python",
   "nbconvert_exporter": "python",
   "pygments_lexer": "ipython3",
   "version": "3.9.16"
  }
 },
 "nbformat": 4,
 "nbformat_minor": 5
}
