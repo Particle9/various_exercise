{
 "cells": [
  {
   "cell_type": "code",
   "execution_count": 18,
   "id": "a2dd96d1-929c-4fe4-abd7-000312bc2beb",
   "metadata": {},
   "outputs": [],
   "source": [
    "import urllib.request\n",
    "from bs4 import BeautifulSoup\n",
    "from collections import Counter\n",
    "import re"
   ]
  },
  {
   "cell_type": "code",
   "execution_count": 19,
   "id": "63c11245-4091-400a-b57c-ce7f14090c99",
   "metadata": {},
   "outputs": [],
   "source": [
    "\n",
    "\n",
    "def fetch_content_from_url(url):\n",
    "    user_agent = 'Mozilla/5.0 (Windows; U; Windows NT 5.1; en-US; rv:1.9.0.7) Gecko/2009021910 Firefox/3.0.7'\n",
    "    headers={'User-Agent':user_agent,} \n",
    "    \n",
    "    request=urllib.request.Request(url,None,headers)\n",
    "    response = urllib.request.urlopen(request)\n",
    "    data = response.read() \n",
    "    return data\n",
    "\n",
    "def get_text_from_html(html_content):\n",
    "    soup = BeautifulSoup(html_content, 'html.parser')\n",
    "    return soup.get_text()\n",
    "\n",
    "def get_vocabulary(text_content):\n",
    "    words= re.findall(r'\\w+', text_content.lower())\n",
    "    return Counter(words)"
   ]
  },
  {
   "cell_type": "code",
   "execution_count": 21,
   "id": "c814e3b7-83f6-4461-9554-d8865da23e6a",
   "metadata": {},
   "outputs": [],
   "source": [
    "url = \"https://www.google.com/search?q=trump&sca_esv=562269560&sxsrf=AB5stBhR-zKUn1H7tOB5FDEzlOe0mD_q1g%3A1693713612850&source=hp&ei=zAT0ZLjGMcOZ4-EP5Mm_4Ag&iflsig=AD69kcEAAAAAZPQS3M98B5mdN9d8w1fWPZkjWY4CbpA8&ved=0ahUKEwi43Pjxxo2BAxXDzDgGHeTkD4wQ4dUDCAg&uact=5&oq=trump&gs_lp=Egdnd3Mtd2l6IgV0cnVtcDINEC4YigUYsQMYgwEYQzIIEAAYgAQYsQMyBxAAGIoFGEMyBRAAGIAEMgsQLhiABBjHARivATILEC4YgAQYxwEYrwEyCBAAGIAEGMsBMggQABiABBjLATIIEAAYgAQYywEyCBAAGIAEGMsBSOscUJEUWKoacAF4AJABAJgBtwGgAfUDqgEDNC4xuAEDyAEA-AEBqAIKwgIHECMY6gIYJ8ICBxAjGIoFGCfCAgQQIxgnwgILEAAYgAQYsQMYgwHCAhEQLhiABBixAxiDARjHARjRA8ICCxAuGIAEGMcBGNEDwgIMECMYigUYExiABBgnwgIHEC4YigUYQ8ICCBAuGIAEGLEDwgIHEAAYgAQYCg&sclient=gws-wiz\"\n",
    "contents = fetch_content_from_url(url)"
   ]
  },
  {
   "cell_type": "code",
   "execution_count": 29,
   "id": "da37121e-2781-4ca6-932d-908ec8ec05b5",
   "metadata": {
    "scrolled": true,
    "tags": []
   },
   "outputs": [],
   "source": [
    "texts = get_text_from_html(contents)\n",
    "vocab_list = get_vocabulary(texts)"
   ]
  },
  {
   "cell_type": "code",
   "execution_count": 24,
   "id": "2ac1148b-371f-48ae-a1ef-287be50fc2c8",
   "metadata": {},
   "outputs": [],
   "source": [
    "def get_word_type(word):\n",
    "    tag = pos_tag([word])[0][1]\n",
    "    return tag\n"
   ]
  },
  {
   "cell_type": "code",
   "execution_count": 31,
   "id": "f170bb03-def5-405c-960c-2648d3be6d0a",
   "metadata": {},
   "outputs": [],
   "source": [
    "import pandas as pd\n",
    "import matplotlib.pyplot as plt"
   ]
  },
  {
   "cell_type": "code",
   "execution_count": 38,
   "id": "58856fc6-193d-4e09-815e-e9a413361bbc",
   "metadata": {},
   "outputs": [],
   "source": [
    "def plot_most_common_words(word_counts):\n",
    "    df = pd.DataFrame(word_counts.most_common(10), columns=['Word', 'Frequency'])\n",
    "    df.set_index('Word', inplace=True)\n",
    "    df.sort_values(by='Frequency').plot(kind='barh')\n",
    "    chart_path = 'media/word_counts.png'\n",
    "    plt.savefig(chart_path)\n",
    "    plt.close()\n",
    "    return chart_path"
   ]
  },
  {
   "cell_type": "code",
   "execution_count": 39,
   "id": "e431ae3e-af94-4639-9dec-2a22935f5cbf",
   "metadata": {},
   "outputs": [
    {
     "data": {
      "text/plain": [
       "'media/word_counts.png'"
      ]
     },
     "execution_count": 39,
     "metadata": {},
     "output_type": "execute_result"
    }
   ],
   "source": [
    "plot_most_common_words(vocab_list)"
   ]
  },
  {
   "cell_type": "code",
   "execution_count": null,
   "id": "d04cba1f-70b6-41f7-a9a4-5c47fcf76968",
   "metadata": {},
   "outputs": [],
   "source": []
  }
 ],
 "metadata": {
  "kernelspec": {
   "display_name": "Python 3 (ipykernel)",
   "language": "python",
   "name": "python3"
  },
  "language_info": {
   "codemirror_mode": {
    "name": "ipython",
    "version": 3
   },
   "file_extension": ".py",
   "mimetype": "text/x-python",
   "name": "python",
   "nbconvert_exporter": "python",
   "pygments_lexer": "ipython3",
   "version": "3.9.16"
  }
 },
 "nbformat": 4,
 "nbformat_minor": 5
}
