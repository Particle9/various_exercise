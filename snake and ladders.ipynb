{
 "cells": [
  {
   "cell_type": "code",
   "execution_count": 2,
   "id": "2d61657a-f545-49c2-8c88-3f7e33eff31e",
   "metadata": {},
   "outputs": [
    {
     "data": {
      "text/plain": [
       "2"
      ]
     },
     "execution_count": 2,
     "metadata": {},
     "output_type": "execute_result"
    }
   ],
   "source": [
    "32//12"
   ]
  },
  {
   "cell_type": "code",
   "execution_count": null,
   "id": "95090d64-9860-4bf4-825c-7dbaec607336",
   "metadata": {},
   "outputs": [
    {
     "data": {
      "text/plain": [
       "8"
      ]
     },
     "execution_count": 1,
     "metadata": {},
     "output_type": "execute_result"
    }
   ],
   "source": [
    "32%12"
   ]
  },
  {
   "cell_type": "code",
   "execution_count": null,
   "id": "9fe6baa5-0e67-4739-b498-a1c5a5e9cea6",
   "metadata": {},
   "outputs": [
    {
     "data": {
      "text/plain": [
       "1"
      ]
     },
     "execution_count": 2,
     "metadata": {},
     "output_type": "execute_result"
    }
   ],
   "source": [
    "[1,2,3,4].pop(0)"
   ]
  },
  {
   "cell_type": "code",
   "execution_count": 83,
   "id": "e3949b82-4864-4c2e-894d-7ab44d9ffec2",
   "metadata": {},
   "outputs": [],
   "source": [
    "def min_moves_to_win(ladders, snakes):\n",
    "    # Create a dictionary to represent the game board\n",
    "    board = {i: i for i in range(1, 101)}\n",
    "\n",
    "    # Update the board for ladders and snakes\n",
    "    for start, end in ladders:\n",
    "        board[start] = end\n",
    "    for start, end in snakes:\n",
    "        board[start] = end\n",
    "        \n",
    "    visited = set()\n",
    "    queue = [(1, 0)]\n",
    "\n",
    "    while queue:\n",
    "        position, moves = queue.pop(0)\n",
    "\n",
    "        if position == 100:\n",
    "            break\n",
    "\n",
    "        for i in range(1, 7):\n",
    "            if (position + i) > 100:\n",
    "                next_position = board[position + i - 100]\n",
    "            else:\n",
    "                next_position = board[position + i]\n",
    "\n",
    "            if next_position not in visited:\n",
    "                visited.add(next_position)\n",
    "                queue.append((next_position, moves + 1))\n",
    "    return moves\n"
   ]
  },
  {
   "cell_type": "code",
   "execution_count": 84,
   "id": "46eaf84a-3ca7-4d92-b25e-7dfcecc9ebd5",
   "metadata": {},
   "outputs": [],
   "source": [
    "ladders = [[32, 62], [42, 68], [12, 98]]\n",
    "\n",
    "snakes = [[95, 13], [97, 25], [93, 37], [79, 27], [75, 19], [49, 47], [67, 17]]"
   ]
  },
  {
   "cell_type": "code",
   "execution_count": 85,
   "id": "5e320b80-e329-4ef8-82f9-633bb531726b",
   "metadata": {},
   "outputs": [
    {
     "data": {
      "text/plain": [
       "3"
      ]
     },
     "execution_count": 85,
     "metadata": {},
     "output_type": "execute_result"
    }
   ],
   "source": [
    "min_moves_to_win(ladders,snakes)"
   ]
  },
  {
   "cell_type": "code",
   "execution_count": 86,
   "id": "3a80e920-b969-475b-a494-734b8897388b",
   "metadata": {},
   "outputs": [],
   "source": [
    "ladders = [[8, 52], [6, 80], [26, 42], [2, 72]]\n",
    "\n",
    "snakes = [[51, 19], [39, 11], [37, 29], [81, 3], [59, 5], [79, 23], [53, 7], [43, 33], [77, 21]]"
   ]
  },
  {
   "cell_type": "code",
   "execution_count": 87,
   "id": "5138e895-022c-4df9-b119-6080b9076595",
   "metadata": {},
   "outputs": [
    {
     "data": {
      "text/plain": [
       "5"
      ]
     },
     "execution_count": 87,
     "metadata": {},
     "output_type": "execute_result"
    }
   ],
   "source": [
    "min_moves_to_win(ladders,snakes)"
   ]
  },
  {
   "cell_type": "code",
   "execution_count": null,
   "id": "6dba2ad9-ad43-4438-9373-3d29513d1cb9",
   "metadata": {},
   "outputs": [],
   "source": []
  },
  {
   "cell_type": "code",
   "execution_count": 4,
   "id": "70b3f0f1-ad63-41e8-97b2-1ba656c09f34",
   "metadata": {},
   "outputs": [
    {
     "data": {
      "text/plain": [
       "False"
      ]
     },
     "execution_count": 4,
     "metadata": {},
     "output_type": "execute_result"
    }
   ],
   "source": [
    "[1,0,3] in[[1,0,2,3]]"
   ]
  },
  {
   "cell_type": "code",
   "execution_count": 6,
   "id": "7fbd1e7f-bf20-412f-8dde-80d9672087a6",
   "metadata": {},
   "outputs": [
    {
     "data": {
      "text/plain": [
       "[2, 3, 4, 5]"
      ]
     },
     "execution_count": 6,
     "metadata": {},
     "output_type": "execute_result"
    }
   ],
   "source": [
    "[1,2,3,4,5][1:]"
   ]
  },
  {
   "cell_type": "code",
   "execution_count": null,
   "id": "dec78239-d0e8-4c14-9cc8-f0963ba510c0",
   "metadata": {},
   "outputs": [],
   "source": []
  }
 ],
 "metadata": {
  "kernelspec": {
   "display_name": "Python 3 (ipykernel)",
   "language": "python",
   "name": "python3"
  },
  "language_info": {
   "codemirror_mode": {
    "name": "ipython",
    "version": 3
   },
   "file_extension": ".py",
   "mimetype": "text/x-python",
   "name": "python",
   "nbconvert_exporter": "python",
   "pygments_lexer": "ipython3",
   "version": "3.9.16"
  }
 },
 "nbformat": 4,
 "nbformat_minor": 5
}
