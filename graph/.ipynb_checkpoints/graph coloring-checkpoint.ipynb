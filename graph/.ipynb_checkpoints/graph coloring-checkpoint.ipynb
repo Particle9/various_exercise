{
 "cells": [
  {
   "cell_type": "code",
   "execution_count": 3,
   "id": "e80f88fe-6de5-45bd-a651-308d60bcb3db",
   "metadata": {},
   "outputs": [],
   "source": [
    "def color_graph(edges):\n",
    "    # Step 1: Create an empty graph represented as an adjacency list\n",
    "    graph = {}\n",
    "\n",
    "    # Step 2: Create an adjacency list representation of the graph\n",
    "    for edge in edges:\n",
    "        u, v = edge\n",
    "        if u not in graph:\n",
    "            graph[u] = []\n",
    "        graph[u].append(v)\n",
    "\n",
    "        if v not in graph:\n",
    "            graph[v] = []\n",
    "        graph[v].append(u)\n",
    "\n",
    "    # Step 3: Dictionary to store the color of each node (-1: uncolored, 0: black, 1: white)\n",
    "    colors = {}\n",
    "    \n",
    "    graph_order = [k for k,v in graph.items()]\n",
    "    graph_order = sorted(graph_order, key=lambda k: len(graph[k]), reverse=True)\n",
    "    print(graph_order)\n",
    "    \n",
    "    for node in graph:\n",
    "        graph[node] = sorted(graph[node], key=lambda k: len(graph[k]))\n",
    "\n",
    "    # Step 4: Apply iterative DFS for each uncolored node\n",
    "    for start_node in graph_order:\n",
    "        if start_node not in colors:\n",
    "            stack = [(start_node, 0)]  # (node, color)\n",
    "\n",
    "            # Iterative DFS\n",
    "            print()\n",
    "            while stack:\n",
    "                print(stack)\n",
    "                current_node, current_color = stack.pop()\n",
    "\n",
    "                # Step 5: Check if the current node has already been colored\n",
    "                if current_node in colors:\n",
    "                    # Step 6: Check if the current color is consistent with the existing color\n",
    "                    if colors[current_node] != current_color:\n",
    "                        print()\n",
    "                        return -1\n",
    "                    continue\n",
    "\n",
    "                # Step 7: Color the current node\n",
    "                colors[current_node] = current_color\n",
    "\n",
    "                # Step 8: Push neighbors onto the stack with the opposite color\n",
    "                for neighbor in graph[current_node] :\n",
    "                    stack += [(neighbor, 1 - current_color)]\n",
    "            print()\n",
    "\n",
    "    # Step 9: Separate nodes into black and white\n",
    "    black_nodes = [node for node, color in colors.items() if color == 0]\n",
    "    white_nodes = [node for node, color in colors.items() if color == 1]\n",
    "\n",
    "    # Step 10: Return the result\n",
    "    return black_nodes, white_nodes\n"
   ]
  },
  {
   "cell_type": "code",
   "execution_count": 4,
   "id": "9602f948-b8fb-497e-941d-4ec4c4bc6af4",
   "metadata": {},
   "outputs": [
    {
     "name": "stdout",
     "output_type": "stream",
     "text": [
      "[2, 0, 1, 3]\n",
      "\n",
      "[(2, 0)]\n",
      "[(3, 1), (1, 1), (0, 1)]\n",
      "[(3, 1), (1, 1), (1, 0), (2, 0)]\n",
      "[(3, 1), (1, 1), (1, 0)]\n",
      "[(3, 1), (1, 1), (0, 1), (2, 1)]\n",
      "\n",
      "-1\n"
     ]
    }
   ],
   "source": [
    "\n",
    "# Example usage:\n",
    "edges = [(0, 1), (1, 2), (2, 0), (2, 3)]\n",
    "result = color_graph(edges)\n",
    "print(result)"
   ]
  },
  {
   "cell_type": "code",
   "execution_count": 5,
   "id": "5debc857-f984-4c6f-9627-dc3b3dabbe89",
   "metadata": {},
   "outputs": [
    {
     "name": "stdout",
     "output_type": "stream",
     "text": [
      "[0, 1, 2, 4, 3, 5]\n",
      "\n",
      "[(0, 0)]\n",
      "[(5, 1), (1, 1), (2, 1)]\n",
      "[(5, 1), (1, 1), (3, 0), (0, 0)]\n",
      "[(5, 1), (1, 1), (3, 0)]\n",
      "[(5, 1), (1, 1), (2, 1)]\n",
      "[(5, 1), (1, 1)]\n",
      "[(5, 1), (4, 0), (0, 0)]\n",
      "[(5, 1), (4, 0)]\n",
      "[(5, 1), (1, 1)]\n",
      "[(5, 1)]\n",
      "[(0, 0)]\n",
      "\n",
      "([0, 3, 4], [2, 1, 5])\n"
     ]
    }
   ],
   "source": [
    "\n",
    "# Example usage:\n",
    "edges = [(0, 1), (1, 4), (2, 0), (2, 3), (5,0)]\n",
    "result = color_graph(edges)\n",
    "print(result)\n"
   ]
  },
  {
   "cell_type": "code",
   "execution_count": null,
   "id": "6752562a-a135-4751-914d-cd49be2101e8",
   "metadata": {},
   "outputs": [],
   "source": []
  },
  {
   "cell_type": "code",
   "execution_count": null,
   "id": "c340fa40-aa97-48b4-aeb7-3068c5466501",
   "metadata": {},
   "outputs": [],
   "source": []
  },
  {
   "cell_type": "code",
   "execution_count": null,
   "id": "74342677-60d8-474b-ad3d-6faa138952c2",
   "metadata": {},
   "outputs": [],
   "source": []
  },
  {
   "cell_type": "code",
   "execution_count": null,
   "id": "9b50e53d-afab-4628-a64a-7889873a049a",
   "metadata": {},
   "outputs": [],
   "source": []
  }
 ],
 "metadata": {
  "kernelspec": {
   "display_name": "Python 3 (ipykernel)",
   "language": "python",
   "name": "python3"
  },
  "language_info": {
   "codemirror_mode": {
    "name": "ipython",
    "version": 3
   },
   "file_extension": ".py",
   "mimetype": "text/x-python",
   "name": "python",
   "nbconvert_exporter": "python",
   "pygments_lexer": "ipython3",
   "version": "3.9.16"
  }
 },
 "nbformat": 4,
 "nbformat_minor": 5
}
