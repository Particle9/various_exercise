{
 "cells": [
  {
   "cell_type": "code",
   "execution_count": 24,
   "id": "e80f88fe-6de5-45bd-a651-308d60bcb3db",
   "metadata": {},
   "outputs": [],
   "source": [
    "def color_graph(edges):\n",
    "    graph = {}\n",
    "\n",
    "    # Create an adjacency list representation of the graph\n",
    "    for edge in edges:\n",
    "        u, v = edge\n",
    "        if u not in graph:\n",
    "            graph[u] = []\n",
    "        graph[u].append(v)\n",
    "\n",
    "        if v not in graph:\n",
    "            graph[v] = []\n",
    "        graph[v].append(u)\n",
    "\n",
    "    # Dictionary to store the color of each node (-1: uncolored, 0: black, 1: white)\n",
    "    colors = {}\n",
    "\n",
    "    def dfs(node, color):\n",
    "        if node in colors:\n",
    "            return colors[node] == color\n",
    "\n",
    "        colors[node] = color\n",
    "\n",
    "        for neighbor in graph.get(node, []):\n",
    "            if not dfs(neighbor, 1 - color):\n",
    "                return False\n",
    "\n",
    "        return True\n",
    "\n",
    "    # Apply DFS for each uncolored node\n",
    "    for node in graph:\n",
    "        if node not in colors:\n",
    "            if not dfs(node, 0):\n",
    "                return -1\n",
    "\n",
    "    # Separate nodes into black and white\n",
    "    black_nodes = [node for node, color in colors.items() if color == 0]\n",
    "    white_nodes = [node for node, color in colors.items() if color == 1]\n",
    "\n",
    "    return black_nodes, white_nodes\n"
   ]
  },
  {
   "cell_type": "code",
   "execution_count": 27,
   "id": "5debc857-f984-4c6f-9627-dc3b3dabbe89",
   "metadata": {},
   "outputs": [
    {
     "name": "stdout",
     "output_type": "stream",
     "text": [
      "([0, 4, 3], [1, 2])\n"
     ]
    }
   ],
   "source": [
    "\n",
    "# Example usage:\n",
    "edges = [(0, 1), (1, 4), (2, 0), (2, 3)]\n",
    "result = color_graph(edges)\n",
    "print(result)\n"
   ]
  },
  {
   "cell_type": "code",
   "execution_count": null,
   "id": "6752562a-a135-4751-914d-cd49be2101e8",
   "metadata": {},
   "outputs": [],
   "source": []
  }
 ],
 "metadata": {
  "kernelspec": {
   "display_name": "Python 3 (ipykernel)",
   "language": "python",
   "name": "python3"
  },
  "language_info": {
   "codemirror_mode": {
    "name": "ipython",
    "version": 3
   },
   "file_extension": ".py",
   "mimetype": "text/x-python",
   "name": "python",
   "nbconvert_exporter": "python",
   "pygments_lexer": "ipython3",
   "version": "3.9.16"
  }
 },
 "nbformat": 4,
 "nbformat_minor": 5
}
