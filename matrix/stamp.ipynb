{
 "cells": [
  {
   "cell_type": "code",
   "execution_count": 21,
   "id": "5c48e720-e458-419e-bd33-27e09b36e8bd",
   "metadata": {},
   "outputs": [
    {
     "name": "stdout",
     "output_type": "stream",
     "text": [
      "1\n"
     ]
    }
   ],
   "source": [
    "def max_stamp_size(matrix):\n",
    "    if not matrix:\n",
    "        return 0\n",
    "\n",
    "    rows, cols = len(matrix), len(matrix[0])\n",
    "\n",
    "    # Helper function to check if a square of size k can be stamped at (i, j)\n",
    "    def can_stamp(i, j, k):\n",
    "        if i + k > rows or j + k > cols:\n",
    "            return False\n",
    "        for x in range(i, i + k):\n",
    "            for y in range(j, j + k):\n",
    "                if matrix[x][y] == \"#\":\n",
    "                    return False\n",
    "        return True\n",
    "\n",
    "    # Helper function to check if all \"_\" are covered by square stamps of size k\n",
    "    def can_cover_all(k):\n",
    "        visited = [[False for _ in range(cols)] for _ in range(rows)]\n",
    "        for i in range(rows - k + 1):\n",
    "            for j in range(cols - k + 1):\n",
    "                if can_stamp(i, j, k):\n",
    "                    for x in range(i, i + k):\n",
    "                        for y in range(j, j + k):\n",
    "                            visited[x][y] = True\n",
    "        for i in range(rows):\n",
    "            for j in range(cols):\n",
    "                if matrix[i][j] == \"_\" and not visited[i][j]:\n",
    "                    return False\n",
    "        return True\n",
    "\n",
    "    max_possible_size = min(rows, cols)\n",
    "    for size in range(max_possible_size, 0, -1):\n",
    "        if can_cover_all(size):\n",
    "            return size\n",
    "    return 0\n",
    "\n",
    "# Test\n",
    "matrix = [\n",
    "    \"_?__#___?\",\n",
    "    \"__?_#_??_\",\n",
    "    \"#_#_#_#__\",\n",
    "    \"___#_?_?_\",\n",
    "    \"_?___#___\"\n",
    "]\n",
    "\n",
    "print(max_stamp_size(matrix))  # This will provide the maximum stamp size for the given grid\n"
   ]
  },
  {
   "cell_type": "code",
   "execution_count": 27,
   "id": "4df1291b-1844-4bb1-b5c4-6c54f5a07703",
   "metadata": {},
   "outputs": [],
   "source": [
    "strcx = \"\"\"___##\n",
    "___##\n",
    "_____\n",
    "##___\n",
    "##___\"\"\""
   ]
  },
  {
   "cell_type": "code",
   "execution_count": 28,
   "id": "43e59e42-6f79-4082-851d-54333e26f975",
   "metadata": {},
   "outputs": [
    {
     "data": {
      "text/plain": [
       "['___##', '___##', '_____', '##___', '##___']"
      ]
     },
     "execution_count": 28,
     "metadata": {},
     "output_type": "execute_result"
    }
   ],
   "source": [
    "strcx.split('\\n')\n",
    "\n"
   ]
  },
  {
   "cell_type": "code",
   "execution_count": 29,
   "id": "7fcdcb2b-1d04-403c-a480-639d8d09187c",
   "metadata": {},
   "outputs": [
    {
     "data": {
      "text/plain": [
       "3"
      ]
     },
     "execution_count": 29,
     "metadata": {},
     "output_type": "execute_result"
    }
   ],
   "source": [
    "max_stamp_size(strcx.split('\\n'))"
   ]
  },
  {
   "cell_type": "code",
   "execution_count": 26,
   "id": "3988f07b-7a0c-47cc-91f8-f3e9d11b8ffb",
   "metadata": {},
   "outputs": [
    {
     "name": "stdout",
     "output_type": "stream",
     "text": [
      "2\n"
     ]
    }
   ],
   "source": [
    "\n",
    "\n",
    "# Test\n",
    "matrix = [\n",
    "    \"___#___\",\n",
    "    \"___#___\",\n",
    "    \"#######\",\n",
    "    \"___#___\",\n",
    "    \"___#___\"\n",
    "]\n",
    "\n",
    "print(max_stamp_size(matrix))  # Expected output: 2"
   ]
  },
  {
   "cell_type": "code",
   "execution_count": 23,
   "id": "abce8edf-54eb-4436-bf33-488b1b7ea3c9",
   "metadata": {},
   "outputs": [
    {
     "name": "stdout",
     "output_type": "stream",
     "text": [
      "1\n"
     ]
    }
   ],
   "source": [
    "# Test\n",
    "matrix = [\n",
    "    \"#######\",\n",
    "    \"___#___\",\n",
    "    \"___####\",\n",
    "    \"___#___\",\n",
    "    \"___#___\"\n",
    "]\n",
    "\n",
    "print(max_stamp_size(matrix))  # Expected output: 2"
   ]
  },
  {
   "cell_type": "code",
   "execution_count": null,
   "id": "b6aeec0c-8864-4b7b-a878-3db7dace046d",
   "metadata": {},
   "outputs": [],
   "source": []
  }
 ],
 "metadata": {
  "kernelspec": {
   "display_name": "Python 3 (ipykernel)",
   "language": "python",
   "name": "python3"
  },
  "language_info": {
   "codemirror_mode": {
    "name": "ipython",
    "version": 3
   },
   "file_extension": ".py",
   "mimetype": "text/x-python",
   "name": "python",
   "nbconvert_exporter": "python",
   "pygments_lexer": "ipython3",
   "version": "3.9.16"
  }
 },
 "nbformat": 4,
 "nbformat_minor": 5
}
