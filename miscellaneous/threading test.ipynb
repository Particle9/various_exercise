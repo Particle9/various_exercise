{
 "cells": [
  {
   "cell_type": "code",
   "execution_count": 3,
   "id": "b2be0ff9-9630-4028-b29d-e914ff42631f",
   "metadata": {},
   "outputs": [
    {
     "name": "stdout",
     "output_type": "stream",
     "text": [
      "84\n"
     ]
    }
   ],
   "source": [
    "from threading import Thread\n",
    "import time\n",
    "x = 0\n",
    "\n",
    "def increment():\n",
    "    global x\n",
    "    time.sleep(0.001)\n",
    "    x = x + 1\n",
    "\n",
    "for i in range(100):\n",
    "    t = Thread(target=increment)\n",
    "    t.start()\n",
    "\n",
    "print(x)"
   ]
  },
  {
   "cell_type": "code",
   "execution_count": null,
   "id": "b52859cb-908d-43ee-85ac-66dc7cb1ba21",
   "metadata": {},
   "outputs": [],
   "source": []
  }
 ],
 "metadata": {
  "kernelspec": {
   "display_name": "Python 3 (ipykernel)",
   "language": "python",
   "name": "python3"
  },
  "language_info": {
   "codemirror_mode": {
    "name": "ipython",
    "version": 3
   },
   "file_extension": ".py",
   "mimetype": "text/x-python",
   "name": "python",
   "nbconvert_exporter": "python",
   "pygments_lexer": "ipython3",
   "version": "3.9.16"
  }
 },
 "nbformat": 4,
 "nbformat_minor": 5
}
