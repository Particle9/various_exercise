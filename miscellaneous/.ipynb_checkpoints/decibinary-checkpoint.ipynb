{
 "cells": [
  {
   "cell_type": "code",
   "execution_count": 1,
   "id": "64c87d4c-2599-4237-ac0b-d5d43a4a66a0",
   "metadata": {},
   "outputs": [],
   "source": [
    "def get_min_decibinary(n):\n",
    "    strn = str(n)\n",
    "    lst = [int(x) for x in strn]\n",
    "    return max(lst)"
   ]
  },
  {
   "cell_type": "code",
   "execution_count": 2,
   "id": "82b4dde7-57dc-409e-b02d-6c0c1d9662d2",
   "metadata": {},
   "outputs": [
    {
     "data": {
      "text/plain": [
       "3"
      ]
     },
     "execution_count": 2,
     "metadata": {},
     "output_type": "execute_result"
    }
   ],
   "source": [
    "get_min_decibinary('32')"
   ]
  },
  {
   "cell_type": "code",
   "execution_count": 3,
   "id": "6a89bbe5-8e39-462c-a87f-e8aa5db37ce7",
   "metadata": {},
   "outputs": [
    {
     "data": {
      "text/plain": [
       "8"
      ]
     },
     "execution_count": 3,
     "metadata": {},
     "output_type": "execute_result"
    }
   ],
   "source": [
    "get_min_decibinary('82734')"
   ]
  },
  {
   "cell_type": "code",
   "execution_count": 4,
   "id": "d7f9ada7-9053-4449-9f34-0860e14bd815",
   "metadata": {},
   "outputs": [
    {
     "data": {
      "text/plain": [
       "9"
      ]
     },
     "execution_count": 4,
     "metadata": {},
     "output_type": "execute_result"
    }
   ],
   "source": [
    "get_min_decibinary('27346209830709182346')"
   ]
  },
  {
   "cell_type": "code",
   "execution_count": null,
   "id": "8548af79-bd3a-4395-b687-65b1b72d9763",
   "metadata": {},
   "outputs": [],
   "source": []
  }
 ],
 "metadata": {
  "kernelspec": {
   "display_name": "Python 3 (ipykernel)",
   "language": "python",
   "name": "python3"
  },
  "language_info": {
   "codemirror_mode": {
    "name": "ipython",
    "version": 3
   },
   "file_extension": ".py",
   "mimetype": "text/x-python",
   "name": "python",
   "nbconvert_exporter": "python",
   "pygments_lexer": "ipython3",
   "version": "3.9.16"
  }
 },
 "nbformat": 4,
 "nbformat_minor": 5
}
