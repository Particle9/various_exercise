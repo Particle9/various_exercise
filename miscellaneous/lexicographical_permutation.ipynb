{
 "cells": [
  {
   "cell_type": "code",
   "execution_count": null,
   "id": "20842f1d-fc97-4c8e-8e52-943a6674422d",
   "metadata": {},
   "outputs": [],
   "source": [
    "0,2,3,0"
   ]
  },
  {
   "cell_type": "code",
   "execution_count": 1,
   "id": "06897c71-0c4c-47ca-8d0c-f12c1e272f58",
   "metadata": {},
   "outputs": [
    {
     "data": {
      "text/plain": [
       "24"
      ]
     },
     "execution_count": 1,
     "metadata": {},
     "output_type": "execute_result"
    }
   ],
   "source": [
    "4*3*2*1"
   ]
  },
  {
   "cell_type": "code",
   "execution_count": null,
   "id": "130f9ef4-b565-43a9-a773-2293b9f1dfca",
   "metadata": {},
   "outputs": [],
   "source": [
    "1,2,3,4\n",
    "1,2,4,3\n",
    "1,3,2,4\n",
    "1,3,4,2\n",
    "1,4,2,3\n",
    "1,4,3,2"
   ]
  },
  {
   "cell_type": "code",
   "execution_count": 27,
   "id": "bfcf27c4-77e1-4d14-b3cf-a53483718233",
   "metadata": {},
   "outputs": [],
   "source": [
    "def biggerIsGreater(strx):\n",
    "    new_str = \"\"\n",
    "    for k in range(1,len(strx)):\n",
    "        for i in reversed(range(k,len(strx))):\n",
    "            if strx[i] > strx[i-k]:\n",
    "                new_str = strx[:i-k] + strx[i] + strx[i-k+1:i] + strx[i-k] + strx[i+1:]\n",
    "                break\n",
    "        if new_str:\n",
    "            return new_str\n",
    "        else:\n",
    "            return \"no answer\""
   ]
  },
  {
   "cell_type": "code",
   "execution_count": 34,
   "id": "2dad2fd1-0d6a-437f-a451-7ba2745fa900",
   "metadata": {},
   "outputs": [],
   "source": [
    "strx = \"dkhc\""
   ]
  },
  {
   "cell_type": "code",
   "execution_count": null,
   "id": "9dc1cd2e-4462-456c-ac85-7c421442ce3f",
   "metadata": {},
   "outputs": [],
   "source": []
  },
  {
   "cell_type": "code",
   "execution_count": 42,
   "id": "382f1bf7-2e2e-4b9c-b4eb-6cf5ed7bda40",
   "metadata": {},
   "outputs": [],
   "source": [
    "def next_lexicographical_permutation(s):\n",
    "    a = list(s)\n",
    "    n = len(a)\n",
    "\n",
    "    # Step 1: Find the rightmost character that is smaller than the character to its right\n",
    "    i = n - 2\n",
    "    while i >= 0 and a[i] >= a[i + 1]:\n",
    "        i -= 1\n",
    "    print(a[i])\n",
    "\n",
    "    # Step 2: If there's no such character, the string is already highest\n",
    "    if i == -1:\n",
    "        return \"no answer\"\n",
    "\n",
    "    # Step 3: Find the rightmost character greater than a[i]\n",
    "    j = n - 1\n",
    "    while a[j] <= a[i]:\n",
    "        j -= 1\n",
    "    print(a[j])\n",
    "\n",
    "    # Step 4: Swap a[i] and a[j]\n",
    "    a[i], a[j] = a[j], a[i]\n",
    "\n",
    "    # Step 5: Reverse the substring to the right of a[i]\n",
    "    a[i+1:] = reversed(a[i+1:])\n",
    "    print(list(reversed(a[i+1:])))\n",
    "    \n",
    "    return ''.join(a)\n"
   ]
  },
  {
   "cell_type": "code",
   "execution_count": 43,
   "id": "9d9c39bc-f608-4bbc-9da7-0d5a3d0434a6",
   "metadata": {},
   "outputs": [
    {
     "name": "stdout",
     "output_type": "stream",
     "text": [
      "d\n",
      "h\n",
      "['k', 'd', 'c']\n"
     ]
    },
    {
     "data": {
      "text/plain": [
       "'hcdk'"
      ]
     },
     "execution_count": 43,
     "metadata": {},
     "output_type": "execute_result"
    }
   ],
   "source": [
    "next_lexicographical_permutation(strx)"
   ]
  },
  {
   "cell_type": "code",
   "execution_count": null,
   "id": "9e344178-823f-4172-afc2-878fdbd77da0",
   "metadata": {},
   "outputs": [],
   "source": []
  }
 ],
 "metadata": {
  "kernelspec": {
   "display_name": "Python 3 (ipykernel)",
   "language": "python",
   "name": "python3"
  },
  "language_info": {
   "codemirror_mode": {
    "name": "ipython",
    "version": 3
   },
   "file_extension": ".py",
   "mimetype": "text/x-python",
   "name": "python",
   "nbconvert_exporter": "python",
   "pygments_lexer": "ipython3",
   "version": "3.9.16"
  }
 },
 "nbformat": 4,
 "nbformat_minor": 5
}
